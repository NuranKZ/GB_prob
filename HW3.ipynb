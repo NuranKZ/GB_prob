{
 "cells": [
  {
   "cell_type": "markdown",
   "metadata": {
    "toc": true
   },
   "source": [
    "<h1>Table of Contents<span class=\"tocSkip\"></span></h1>\n",
    "<div class=\"toc\"><ul class=\"toc-item\"></ul></div>"
   ]
  },
  {
   "cell_type": "code",
   "execution_count": 1,
   "metadata": {},
   "outputs": [],
   "source": [
    "import numpy as np\n",
    "import pandas as pd\n",
    "import matplotlib.pyplot as plt\n",
    "import seaborn as sns"
   ]
  },
  {
   "cell_type": "markdown",
   "metadata": {},
   "source": [
    "**Задача 1**\n",
    "\n",
    "Даны значения зарплат из выборки выпускников:\n",
    "\n",
    "_100, 80, 75, 77, 89, 33, 45, 25, 65, 17, 30, 230, 24, 57, 55, 70, 75, 65, 84, 90, 150_\n",
    "\n",
    "Своими руками (т.е. без использования статистических функций вроде mean, std, var) посчитать среднее арифметическое, смещённую и несмещённую оценки дисперсии, среднее квадратичное отклонение для данной выборки.\n",
    "\n",
    "Можно затем посчитать те же значения с использованием статистических функций, чтобы проверить себя."
   ]
  },
  {
   "cell_type": "code",
   "execution_count": 2,
   "metadata": {},
   "outputs": [
    {
     "name": "stdout",
     "output_type": "stream",
     "text": [
      "средняя выборочная = 73.14285714285714\n",
      "смещенная вариация = 2135.074829931973\n",
      "несмещенная вариация = 2241.8285714285716\n",
      "несмещенное ст.отклонение = 47.34795213553139\n"
     ]
    }
   ],
   "source": [
    "a = np.array([100, 80, 75, 77, 89, 33, 45, 25, 65, 17, 30, 230, 24, 57, 55, 70, 75, 65, 84, 90, 150])\n",
    "\n",
    "manual_mean = sum(a)/len(a)\n",
    "print(f'средняя выборочная = {manual_mean}')\n",
    "\n",
    "manual_var_biased = sum((a-manual_mean)**2)/len(a)\n",
    "print(f'смещенная вариация = {manual_var_biased}')\n",
    "\n",
    "manual_var_unbiased = sum((a-manual_mean)**2)/(len(a)-1)\n",
    "print(f'несмещенная вариация = {manual_var_unbiased}')\n",
    "\n",
    "manual_std_unbiased = manual_var_unbiased**0.5\n",
    "print(f'несмещенное ст.отклонение = {manual_std_unbiased}')\n"
   ]
  },
  {
   "cell_type": "code",
   "execution_count": 3,
   "metadata": {},
   "outputs": [
    {
     "data": {
      "text/plain": [
       "73.14285714285714"
      ]
     },
     "metadata": {},
     "output_type": "display_data"
    },
    {
     "data": {
      "text/plain": [
       "2135.0748299319725"
      ]
     },
     "metadata": {},
     "output_type": "display_data"
    },
    {
     "data": {
      "text/plain": [
       "2241.828571428571"
      ]
     },
     "metadata": {},
     "output_type": "display_data"
    },
    {
     "data": {
      "text/plain": [
       "47.347952135531386"
      ]
     },
     "metadata": {},
     "output_type": "display_data"
    }
   ],
   "source": [
    "display(a.mean())\n",
    "display(a.var(ddof=0))\n",
    "display(a.var(ddof=1))\n",
    "display(a.std(ddof=1))"
   ]
  },
  {
   "cell_type": "markdown",
   "metadata": {},
   "source": [
    "**Задача 2**\n",
    "\n",
    "Для выборки из задачи 1 найти (также без использования статистических функций) медиану, первый и третий квартили, интерквартильное расстояние. Найти выборсы в выборке, используя для этого \"усы\" из boxplot.\n",
    "\n",
    "В этой задаче неоднозначности в вычислении квантилей можно разрешать любым способом."
   ]
  },
  {
   "cell_type": "code",
   "execution_count": 4,
   "metadata": {},
   "outputs": [],
   "source": [
    "def manual_P50(a):\n",
    "    a = np.array(sorted(a))\n",
    "    power = len(a)\n",
    "    if power%2 != 0: # нечет\n",
    "        target_index = len(a)//2 + 1\n",
    "        median = a[target_index-1]\n",
    "    else:  # чет\n",
    "        target_index = len(a)//2\n",
    "        median = (a[target_index-1] + a[target_index])/2\n",
    "    return median\n",
    "\n",
    "def quartile(a):\n",
    "    a = np.array(sorted(a))\n",
    "    power = len(a)\n",
    "    if power%2 != 0:\n",
    "        target_index = len(a)//2 + 1\n",
    "        left_a = a[:target_index] # выбран вариант включения центрального элемента в оба подмножества\n",
    "        right_a = a[target_index-1:]\n",
    "    else:\n",
    "        target_index = len(a)//2\n",
    "        left_a = a[:target_index] # выбран вариант включения центрального элемента в оба подмножества\n",
    "        right_a = a[target_index:]\n",
    "    return manual_P50(left_a), manual_P50(right_a)"
   ]
  },
  {
   "cell_type": "code",
   "execution_count": 5,
   "metadata": {},
   "outputs": [
    {
     "name": "stdout",
     "output_type": "stream",
     "text": [
      "медиана составит 70\n",
      "1-й квартиль составит 45\n",
      "3-й квартиль составит 84\n",
      "межквартильный размах составит 39\n"
     ]
    }
   ],
   "source": [
    "# поиск медианы\n",
    "print(f'медиана составит {manual_P50(a)}')\n",
    "\n",
    "# поиск квартиля Q25\n",
    "q25, q75 = quartile(a)\n",
    "print(f'1-й квартиль составит {q25}')\n",
    "print(f'3-й квартиль составит {q75}')\n",
    "print(f'межквартильный размах составит {q75-q25}')"
   ]
  },
  {
   "cell_type": "code",
   "execution_count": 6,
   "metadata": {},
   "outputs": [
    {
     "name": "stdout",
     "output_type": "stream",
     "text": [
      "медиана - 70.0\n",
      "Q25 - 45.0\n",
      "Q75 - 84.0\n",
      "Q75 - Q25  39.0\n"
     ]
    }
   ],
   "source": [
    "# проверка\n",
    "b = pd.Series(a)\n",
    "\n",
    "print(f'медиана - {b.median()}')\n",
    "print(f'Q25 - {b.quantile(q = 0.25)}')\n",
    "print(f'Q75 - {b.quantile(q = 0.75)}')\n",
    "print(f'Q75 - Q25  {b.quantile(q = 0.75) - b.quantile(q = 0.25)}')"
   ]
  },
  {
   "cell_type": "code",
   "execution_count": 7,
   "metadata": {},
   "outputs": [
    {
     "name": "stdout",
     "output_type": "stream",
     "text": [
      "имеются выбросы в выборке: [230, 150]\n"
     ]
    },
    {
     "data": {
      "image/png": "[encoded data removed]",
      "text/plain": [
       "<Figure size 432x288 with 1 Axes>"
      ]
     },
     "metadata": {
      "needs_background": "light"
     },
     "output_type": "display_data"
    }
   ],
   "source": [
    "sns.boxplot(a);\n",
    "outliers = [i for i in a if i>100]\n",
    "print(f'имеются выбросы в выборке: {outliers}')"
   ]
  },
  {
   "cell_type": "markdown",
   "metadata": {},
   "source": [
    "**Задача 3**\n",
    "\n",
    "В университет на факультеты A и B поступило равное количество студентов, а на факультет C студентов поступило столько же, сколько на A и B вместе. Вероятность того, что студент факультета A сдаст первую сессию, равна 0.8. Для студента факультета B эта вероятность равна 0.7, а для студента факультета C - 0.9. Студент сдал первую сессию. Какова вероятность, что он учится: a) на факультете A? б) на факультете B? в) на факультете C?"
   ]
  },
  {
   "cell_type": "markdown",
   "metadata": {},
   "source": [
    "**Решение**\n",
    "\n",
    "\n",
    "- Пусть Х - событие того что студент сдал экзамен\n",
    "- Событие Y = {Ya, Yb, Yc} - рассматриваемый студент учится на соотв.факультете\n",
    "  - распределение вероятностей:\n",
    "    - Р(Y = Ya) = P(Y = Yb) = 0.25\n",
    "    - P(Y = Yc) = 0.5 (на основании мощностей факультетов)\n",
    "- Заданные условные вероятности:\n",
    "  - Р(X | Ya) = 0.8\n",
    "  - Р(X | Yb) = 0.7\n",
    "  - Р(X | Yc) = 0.9\n",
    "- Мы знаем, что студент сессию сдал => P(X) = 1\n",
    "- По формуле Байеса: Р(X|Yi) = P(Yi|X) P(X) / P(Yi) => P(Yi|X) = P(X|Yi) P(Yi) / P(X)\n",
    "  - P(Ya | X) = 0.8 * 0.25  = 0.2\n",
    "  - P(Yb | X) = 0.7 * 0.25 = 0.175\n",
    "  - P(Yc | X) = 0.9 * 0.5 = 0.45\n",
    "- _опционально_: если бы мы не знали, что студент сдал сессию, то его вероятность (Р(Х)) рассчитывалась бы по формуле полной вероятности и составила бы 0.825, тогда соотв.вероятности были бы\n",
    "  - P(Ya | X) = 0.8 * 0.25 / 0.825 = 0.24(24)\n",
    "  - P(Yb | X) = 0.7 * 0.25 / 0.825 = 0.21(21)\n",
    "  - P(Yc | X) = 0.9 * 0.5 / 0.825 = 0.54(54)"
   ]
  }
 ],
 "metadata": {
  "kernelspec": {
   "display_name": "Python 3",
   "language": "python",
   "name": "python3"
  },
  "language_info": {
   "codemirror_mode": {
    "name": "ipython",
    "version": 3
   },
   "file_extension": ".py",
   "mimetype": "text/x-python",
   "name": "python",
   "nbconvert_exporter": "python",
   "pygments_lexer": "ipython3",
   "version": "3.7.1"
  },
  "toc": {
   "base_numbering": 1,
   "nav_menu": {},
   "number_sections": true,
   "sideBar": true,
   "skip_h1_title": true,
   "title_cell": "Table of Contents",
   "title_sidebar": "Contents",
   "toc_cell": true,
   "toc_position": {},
   "toc_section_display": true,
   "toc_window_display": true
  },
  "varInspector": {
   "cols": {
    "lenName": 16,
    "lenType": 16,
    "lenVar": 40
   },
   "kernels_config": {
    "python": {
     "delete_cmd_postfix": "",
     "delete_cmd_prefix": "del ",
     "library": "var_list.py",
     "varRefreshCmd": "print(var_dic_list())"
    },
    "r": {
     "delete_cmd_postfix": ") ",
     "delete_cmd_prefix": "rm(",
     "library": "var_list.r",
     "varRefreshCmd": "cat(var_dic_list()) "
    }
   },
   "types_to_exclude": [
    "module",
    "function",
    "builtin_function_or_method",
    "instance",
    "_Feature"
   ],
   "window_display": false
  }
 },
 "nbformat": 4,
 "nbformat_minor": 2
}
