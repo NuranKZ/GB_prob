{
 "cells": [
  {
   "cell_type": "markdown",
   "metadata": {
    "toc": true
   },
   "source": [
    "<h1>Table of Contents<span class=\"tocSkip\"></span></h1>\n",
    "<div class=\"toc\"><ul class=\"toc-item\"></ul></div>"
   ]
  },
  {
   "cell_type": "code",
   "execution_count": 1,
   "metadata": {},
   "outputs": [],
   "source": [
    "import math\n",
    "import numpy"
   ]
  },
  {
   "cell_type": "markdown",
   "metadata": {},
   "source": [
    "**Задача 1**\n",
    "\n",
    "Контрольная работа состоит из пяти вопросов. На каждый вопрос приведено четыре варианта ответа, один из которых правильный. Составьте закон распределения числа правильных ответов при простом угадывании. Найдите M(X), D(X)."
   ]
  },
  {
   "cell_type": "markdown",
   "metadata": {},
   "source": [
    "**Решение (без кода)**\n",
    "- Эксперимент Бернулли:\n",
    "  - событие А: правильный ответ, Р = 1/4 = 0.25\n",
    "  - событие notA: неправильный ответ, Q = 1 - P = 0.75\n",
    "- Если эксперименты независимы, то Вероятность числа правильных ответов (х) из общего числа экспериментов (n) будет описываться Биномиальным распределением, т.е. P(x) = Cn(x) p^x q^(n-x)\n",
    "  - Мат.ожидание M(x) = np = 0.25n\n",
    "  - Дисперсия D(x) = npq = 0.1875n"
   ]
  },
  {
   "cell_type": "markdown",
   "metadata": {},
   "source": [
    "**Задача 2**\n",
    "\n",
    "Вероятность попадания в цель при одном выстреле равна 0.01. Какова вероятность того, что число попаданий при 200 выстрелах будет не менее 5 и не более 10?"
   ]
  },
  {
   "cell_type": "markdown",
   "metadata": {},
   "source": [
    "**Решение (формализация)**\n",
    "- в целом, такой процесс можно описать биномиальным распределением x ~ bin(0.01, 200), однако вследствие высоких значений n лучше применять распределение Пуассона\n",
    "- Параметры распределения Пуассона:\n",
    "  - n = 200\n",
    "  - p = 0.01\n",
    "  - lambda = L = np = 2\n",
    "  - тогда P(x) = (L^x / x!) exp^(-L)\n",
    "- P{5<= x <= 10} = P(x=5) + P(x=6) + P(x=7) + P(x=8) + P(x=9) + P(x=10)\n",
    "  - численное решение внизу"
   ]
  },
  {
   "cell_type": "code",
   "execution_count": 59,
   "metadata": {},
   "outputs": [
    {
     "data": {
      "text/plain": [
       "0.0526"
      ]
     },
     "metadata": {},
     "output_type": "display_data"
    }
   ],
   "source": [
    "def p_poisson(n, p, x):\n",
    "    x = int(x)\n",
    "    _lambda = int(n*p)\n",
    "    _prob = (_lambda**x / math.factorial(x))*(np.exp(-_lambda))\n",
    "    return _prob\n",
    "\n",
    "res = 0\n",
    "for x in range(5,11):\n",
    "    res += p_poisson(200, 0.01, x)\n",
    "\n",
    "display(round(res,4))"
   ]
  },
  {
   "cell_type": "markdown",
   "metadata": {},
   "source": [
    "**Задача 3**\n",
    "\n",
    "В условиях предыдущей задачи сколько выстрелов нужно сделать чтобы быть уверенным с вероятностью 0.9, что хотя бы 10 раз будет совершено попадание?\n",
    "\n",
    "Подсказка. Как посчитать P(X >= k) для величины X, имеющей распределение Пуассона? Здесь предстоит немножко покодить."
   ]
  },
  {
   "cell_type": "markdown",
   "metadata": {},
   "source": [
    "**Решение (формализация)**\n",
    "- P(X>=10) = 0.9 <=> 1 - P(X<=10) = 0.9 => P(0<=X<=10) = 0.1 => SUM(P=i| i - from 1 to 9) = 0.9\n",
    "- искомая величина - n\n",
    "- решение (подбор значения n) - внизу"
   ]
  },
  {
   "cell_type": "code",
   "execution_count": 135,
   "metadata": {},
   "outputs": [
    {
     "name": "stdout",
     "output_type": "stream",
     "text": [
      "ответ n=11\n"
     ]
    }
   ],
   "source": [
    "p = 0.01\n",
    "k_min = 1\n",
    "k_max = 9\n",
    "target = 0.1\n",
    "accuracy_dim = 2\n",
    "\n",
    "def main_eq(n, p=p, k_max = k_max, k_min=k_min):\n",
    "    _lambda = n*p\n",
    "    k_list = list(range(k_min, k_max+1))\n",
    "    p_target = 0\n",
    "    for k in k_list:\n",
    "        p_target = p_target + (_lambda**k / math.factorial(k))*np.exp(-_lambda)\n",
    "    return p_target    \n",
    "\n",
    "for i in range(200,k_max,-1):\n",
    "    p_target = main_eq(i)\n",
    "    #print(i, round(p_target, accuracy_dim))\n",
    "    if round(p_target, accuracy_dim) == target:\n",
    "        print(f'ответ n={i}')\n",
    "        break\n",
    "    else:\n",
    "        p_target = 0\n"
   ]
  }
 ],
 "metadata": {
  "kernelspec": {
   "display_name": "Python 3",
   "language": "python",
   "name": "python3"
  },
  "language_info": {
   "codemirror_mode": {
    "name": "ipython",
    "version": 3
   },
   "file_extension": ".py",
   "mimetype": "text/x-python",
   "name": "python",
   "nbconvert_exporter": "python",
   "pygments_lexer": "ipython3",
   "version": "3.6.6"
  },
  "toc": {
   "base_numbering": 1,
   "nav_menu": {},
   "number_sections": true,
   "sideBar": true,
   "skip_h1_title": true,
   "title_cell": "Table of Contents",
   "title_sidebar": "Contents",
   "toc_cell": true,
   "toc_position": {},
   "toc_section_display": true,
   "toc_window_display": true
  },
  "varInspector": {
   "cols": {
    "lenName": 16,
    "lenType": 16,
    "lenVar": 40
   },
   "kernels_config": {
    "python": {
     "delete_cmd_postfix": "",
     "delete_cmd_prefix": "del ",
     "library": "var_list.py",
     "varRefreshCmd": "print(var_dic_list())"
    },
    "r": {
     "delete_cmd_postfix": ") ",
     "delete_cmd_prefix": "rm(",
     "library": "var_list.r",
     "varRefreshCmd": "cat(var_dic_list()) "
    }
   },
   "types_to_exclude": [
    "module",
    "function",
    "builtin_function_or_method",
    "instance",
    "_Feature"
   ],
   "window_display": false
  }
 },
 "nbformat": 4,
 "nbformat_minor": 2
}
