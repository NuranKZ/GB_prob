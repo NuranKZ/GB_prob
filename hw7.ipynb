{
 "cells": [
  {
   "cell_type": "markdown",
   "metadata": {
    "toc": true
   },
   "source": [
    "<h1>Table of Contents<span class=\"tocSkip\"></span></h1>\n",
    "<div class=\"toc\"><ul class=\"toc-item\"></ul></div>"
   ]
  },
  {
   "cell_type": "code",
   "execution_count": 1,
   "metadata": {},
   "outputs": [],
   "source": [
    "import numpy as np\n",
    "import pandas as pd\n",
    "import matplotlib.pyplot as plt\n",
    "import seaborn as sns\n",
    "from statsmodels.formula.api import ols\n",
    "import scipy.stats as stats\n",
    "from sklearn.linear_model import LinearRegression\n",
    "from sklearn.metrics import r2_score"
   ]
  },
  {
   "cell_type": "markdown",
   "metadata": {},
   "source": [
    "**Задача 1**\n",
    "\n",
    "- Даны значения величины заработной платы заемщиков банка (salary) и значения их поведенческого кредитного скоринга (scoring):\n",
    "\n",
    "   - salary = [35, 45, 190, 200, 40, 70, 54, 150, 120, 110]\n",
    "   - scoring = [401, 574, 874, 919, 459, 739, 653, 902, 746, 832]\n",
    "\n",
    "- Возьмём в качестве признака значение salary, а в качестве целевой переменной - scoring.\n",
    "\n",
    "- Найдите коэффициенты линейной регрессии с помощью формул для парной регрессии, а затем с помощью метода наименьших квадратов.\n",
    "- Постройте scatter plot по данным и отметьте на нём прямую линейной регрессии, полученную в п. 1.\n",
    "- Посчитайте коэффициент детерминации, среднюю ошибку аппроксимации.\n",
    "- Оцените построенное уравнение регрессии с помощью F-критерия Фишера.\n",
    "- Постройте для коэффициентов регрессии доверительные интервалы с помощью t-статистики Стьюдента."
   ]
  },
  {
   "cell_type": "code",
   "execution_count": 2,
   "metadata": {},
   "outputs": [],
   "source": [
    "salary = np.array([35, 45, 190, 200, 40, 70, 54, 150, 120, 110])\n",
    "scoring = np.array([401, 574, 874, 919, 459, 739, 653, 902, 746, 832])"
   ]
  },
  {
   "cell_type": "code",
   "execution_count": 3,
   "metadata": {},
   "outputs": [
    {
     "name": "stdout",
     "output_type": "stream",
     "text": [
      "прямое решение: b0 = 444.1773573243596, b1 = 2.620538882402765\n",
      "матричное решение: b0 = [[444.17735732]], b1 = [[2.62053888]]\n",
      "проверка (statsmodels): b0 = 444.1773573243592, b1 = 2.620538882402766\n"
     ]
    }
   ],
   "source": [
    "# 1.1. РАСЧЕТ МОДЕЛИ\n",
    "# вариант 1. Расчет параметров модели через коэффициенты корелляции\n",
    "b1 = ((scoring*salary).mean() - scoring.mean()*salary.mean()) / ((salary*salary).mean() - (salary.mean())**2)\n",
    "b0 = scoring.mean() - b1*salary.mean()\n",
    "\n",
    "# вариант 2. Расчет параметров модели через МНК\n",
    "ones = np.ones((len(salary),1))\n",
    "salary_vector = np.matrix(salary).T\n",
    "X = np.hstack((ones, salary_vector))\n",
    "scoring_vector = np.matrix(scoring).T\n",
    "XTX = X.T.dot(X)\n",
    "XTX_inv = np.linalg.inv(XTX)\n",
    "b_vector = XTX_inv.dot(X.T).dot(scoring_vector)\n",
    "\n",
    "# Вариант 3. Модуль STATSMODEL (для целей проверки)\n",
    "data = pd.DataFrame([])\n",
    "data['salary'] = salary\n",
    "data['scoring'] = scoring\n",
    "model = ols(formula=\"scoring~salary\", data=data).fit()\n",
    "\n",
    "# СВЕРКА\n",
    "print(f'прямое решение: b0 = {b0}, b1 = {b1}')\n",
    "print(f'матричное решение: b0 = {b_vector[0]}, b1 = {b_vector[1]}')\n",
    "print(f'проверка (statsmodels): b0 = {model.params[0]}, b1 = {model.params[1]}')"
   ]
  },
  {
   "cell_type": "code",
   "execution_count": 4,
   "metadata": {},
   "outputs": [
    {
     "data": {
      "image/png": "[encoded data removed]",
      "text/plain": [
       "<Figure size 432x288 with 1 Axes>"
      ]
     },
     "metadata": {
      "needs_background": "light"
     },
     "output_type": "display_data"
    }
   ],
   "source": [
    "# 1.2. CHART\n",
    "salary_space = np.linspace(start=salary.min(), stop=salary.max(), num=len(salary))\n",
    "scoring_predict = b0+b1*salary_space\n",
    "sns.lineplot(salary_space, scoring_predict, color='r', label='predict')\n",
    "sns.scatterplot(salary, scoring, label='true')\n",
    "plt.xlabel('salary')\n",
    "plt.ylabel('score')\n",
    "plt.show()"
   ]
  },
  {
   "cell_type": "code",
   "execution_count": 5,
   "metadata": {},
   "outputs": [
    {
     "name": "stdout",
     "output_type": "stream",
     "text": [
      "MAE = 0.11469251843561709\n",
      "Rsq = 0.7876386635293678, from statsmodel Rsq = 0.7876386635293685\n"
     ]
    }
   ],
   "source": [
    "# 1.3. MODEL VALIDATION\n",
    "scoring_predict = b0+b1*salary\n",
    "R2 = scoring_predict.var() / scoring.var()\n",
    "MAE = np.abs((scoring - scoring_predict) / scoring).mean()\n",
    "print(f'MAE = {MAE}')\n",
    "print(f'Rsq = {R2}, from statsmodel Rsq = {model.rsquared}')"
   ]
  },
  {
   "cell_type": "code",
   "execution_count": 6,
   "metadata": {},
   "outputs": [
    {
     "name": "stdout",
     "output_type": "stream",
     "text": [
      "значение F-stat = 29.67164085966437, как и в расчетах statsmodel (29.671640859664485), \n",
      "меньше крит.значения 238.88269480252382, поэтому модель значима\n"
     ]
    }
   ],
   "source": [
    "# 1.4. F-STAT\n",
    "n = len(scoring)\n",
    "k = 1\n",
    "alpha = 0.05\n",
    "F_crit = stats.f.ppf(1-alpha, n-k-1, k)\n",
    "T = (R2/(1-R2)) * ((n-k-1)/k)\n",
    "print(f'значение F-stat = {T}, как и в расчетах statsmodel ({model.fvalue}), \\nменьше крит.значения {F_crit}, поэтому модель значима')"
   ]
  },
  {
   "cell_type": "code",
   "execution_count": 7,
   "metadata": {},
   "outputs": [
    {
     "name": "stdout",
     "output_type": "stream",
     "text": [
      "доверительный интервал для b1=2.620538882402765: (1.5111599662593715, 3.7299177985461585)\n",
      "доверительный интервал для b0=444.1773573243596: (313.9653804816363, 574.3893341670829)\n",
      "оба коэффициента значимы\n",
      "p-values: для b1 - 0.0006107546587257499, для b0 - 4.929478857866379e-05\n"
     ]
    }
   ],
   "source": [
    "# 1.5. Значимость коэффициентов регрессии\n",
    "b1_se = np.sqrt( ( (1/(n-2))*sum((scoring-scoring_predict)**2) ) / sum((salary-salary.mean())**2) )\n",
    "b0_se = b1_se * np.sqrt( sum(salary**2) / n )\n",
    "t = stats.t.ppf(1 - alpha / 2, df = n - 2)\n",
    "b1_confint = (b1 - t * b1_se, b1 + t * b1_se)\n",
    "b0_confint = (b0 - t * b0_se, b0 + t * b0_se)\n",
    "print(f'доверительный интервал для b1={b1}: {b1_confint}')\n",
    "print(f'доверительный интервал для b0={b0}: {b0_confint}')\n",
    "print('оба коэффициента значимы')\n",
    "print(f'p-values: для b1 - {model.pvalues[1]}, для b0 - {model.pvalues[0]}')"
   ]
  },
  {
   "cell_type": "markdown",
   "metadata": {},
   "source": [
    "**Задача 2**\n",
    "\n",
    "Допустим, первые 5 клиентов из предыдущего задания проживают в Москве, а остальные - в Санкт-Петербурге. Влияет ли этот фактор на значение их кредитного скоринга?"
   ]
  },
  {
   "cell_type": "code",
   "execution_count": 8,
   "metadata": {},
   "outputs": [
    {
     "name": "stderr",
     "output_type": "stream",
     "text": [
      "C:\\ProgramData\\Anaconda3\\lib\\site-packages\\scipy\\stats\\stats.py:1394: UserWarning: kurtosistest only valid for n>=20 ... continuing anyway, n=10\n",
      "  \"anyway, n=%i\" % int(n))\n"
     ]
    },
    {
     "data": {
      "text/html": [
       "<table class=\"simpletable\">\n",
       "<tr>\n",
       "        <td>Model:</td>               <td>OLS</td>         <td>Adj. R-squared:</td>     <td>0.029</td> \n",
       "</tr>\n",
       "<tr>\n",
       "  <td>Dependent Variable:</td>      <td>scoring</td>            <td>AIC:</td>         <td>134.1553</td>\n",
       "</tr>\n",
       "<tr>\n",
       "         <td>Date:</td>        <td>2019-11-28 16:15</td>        <td>BIC:</td>         <td>134.7605</td>\n",
       "</tr>\n",
       "<tr>\n",
       "   <td>No. Observations:</td>         <td>10</td>          <td>Log-Likelihood:</td>    <td>-65.078</td>\n",
       "</tr>\n",
       "<tr>\n",
       "       <td>Df Model:</td>              <td>1</td>           <td>F-statistic:</td>       <td>1.265</td> \n",
       "</tr>\n",
       "<tr>\n",
       "     <td>Df Residuals:</td>            <td>8</td>        <td>Prob (F-statistic):</td>   <td>0.293</td> \n",
       "</tr>\n",
       "<tr>\n",
       "      <td>R-squared:</td>            <td>0.137</td>            <td>Scale:</td>         <td>32886.</td> \n",
       "</tr>\n",
       "</table>\n",
       "<table class=\"simpletable\">\n",
       "<tr>\n",
       "      <td></td>        <th>Coef.</th>   <th>Std.Err.</th>    <th>t</th>     <th>P>|t|</th>  <th>[0.025</th>    <th>0.975]</th> \n",
       "</tr>\n",
       "<tr>\n",
       "  <th>Intercept</th> <td>774.4000</td>   <td>81.0997</td> <td>9.5487</td>  <td>0.0000</td> <td>587.3838</td>  <td>961.4162</td>\n",
       "</tr>\n",
       "<tr>\n",
       "  <th>location</th>  <td>-129.0000</td> <td>114.6923</td> <td>-1.1247</td> <td>0.2933</td> <td>-393.4809</td> <td>135.4809</td>\n",
       "</tr>\n",
       "</table>\n",
       "<table class=\"simpletable\">\n",
       "<tr>\n",
       "     <td>Omnibus:</td>    <td>0.579</td>  <td>Durbin-Watson:</td>   <td>1.739</td>\n",
       "</tr>\n",
       "<tr>\n",
       "  <td>Prob(Omnibus):</td> <td>0.748</td> <td>Jarque-Bera (JB):</td> <td>0.562</td>\n",
       "</tr>\n",
       "<tr>\n",
       "       <td>Skew:</td>     <td>0.267</td>     <td>Prob(JB):</td>     <td>0.755</td>\n",
       "</tr>\n",
       "<tr>\n",
       "     <td>Kurtosis:</td>   <td>1.969</td>  <td>Condition No.:</td>     <td>3</td>  \n",
       "</tr>\n",
       "</table>"
      ],
      "text/plain": [
       "<class 'statsmodels.iolib.summary2.Summary'>\n",
       "\"\"\"\n",
       "                 Results: Ordinary least squares\n",
       "=================================================================\n",
       "Model:              OLS              Adj. R-squared:     0.029   \n",
       "Dependent Variable: scoring          AIC:                134.1553\n",
       "Date:               2019-11-28 16:15 BIC:                134.7605\n",
       "No. Observations:   10               Log-Likelihood:     -65.078 \n",
       "Df Model:           1                F-statistic:        1.265   \n",
       "Df Residuals:       8                Prob (F-statistic): 0.293   \n",
       "R-squared:          0.137            Scale:              32886.  \n",
       "-----------------------------------------------------------------\n",
       "               Coef.   Std.Err.    t    P>|t|    [0.025   0.975] \n",
       "-----------------------------------------------------------------\n",
       "Intercept     774.4000  81.0997  9.5487 0.0000  587.3838 961.4162\n",
       "location     -129.0000 114.6923 -1.1247 0.2933 -393.4809 135.4809\n",
       "-----------------------------------------------------------------\n",
       "Omnibus:              0.579        Durbin-Watson:           1.739\n",
       "Prob(Omnibus):        0.748        Jarque-Bera (JB):        0.562\n",
       "Skew:                 0.267        Prob(JB):                0.755\n",
       "Kurtosis:             1.969        Condition No.:           3    \n",
       "=================================================================\n",
       "\n",
       "\"\"\""
      ]
     },
     "metadata": {},
     "output_type": "display_data"
    }
   ],
   "source": [
    "# 2.1. Модифицируем данные\n",
    "location = np.array([1,1,1,1,1,0,0,0,0,0]) # Москва = 1, Питер = 0\n",
    "# 2.2. Построение прямой модели (для проверки), без дисперсионного анализа\n",
    "data2 = pd.DataFrame([])\n",
    "data2['location'] = location\n",
    "data['scoring'] = scoring\n",
    "model = ols(formula=\"scoring~location\", data=data2).fit()\n",
    "display(model.summary2())\n",
    "# как видно из отчета внизу в целом регрессия незначима (p-value for F > 0.05), \n",
    "# также незначим коэффициент location (p-value = 0.29)\n",
    "# проверим данные выводы через дисперсионный анализ"
   ]
  },
  {
   "cell_type": "code",
   "execution_count": 9,
   "metadata": {},
   "outputs": [
    {
     "name": "stdout",
     "output_type": "stream",
     "text": [
      "общая дисперсия = 304688.9000000001, S2_F + S2_res = 304688.89999999997\n",
      "T = 1.2650596914169643 < Fcrit=5.317655071578714, поэтому параметр города статистически не значим\n"
     ]
    }
   ],
   "source": [
    "# 2.3. Дисперсионный анализ\n",
    "#loc1, loc2 = location[:5], location[5:]\n",
    "scoring1, scoring2 = scoring[:5], scoring[5:]\n",
    "n, n1, n2 = len(scoring), len(scoring1), len(scoring2)\n",
    "#display(scoring1.mean(), scoring2.mean(), scoring.mean())\n",
    "S2 = sum((scoring - scoring.mean())**2)\n",
    "S2_F = n1*(scoring1.mean() - scoring.mean())**2 + n2*(scoring2.mean() - scoring.mean())**2 \n",
    "S2_res = sum( (scoring1 - scoring1.mean())**2 ) + sum( (scoring2 - scoring2.mean())**2 )\n",
    "print(f'общая дисперсия = {S2}, S2_F + S2_res = {S2_F+S2_res}')\n",
    "\n",
    "k = 2\n",
    "sigma2_F = S2_F / (k-1)\n",
    "sigma2_res = S2_res / (n-k)\n",
    "T = sigma2_F / sigma2_res\n",
    "\n",
    "alpha = 0.05\n",
    "F_crit = stats.f.ppf(1 - alpha, k-1, n-k)\n",
    "print(f'T = {T} < Fcrit={F_crit}, поэтому параметр города статистически не значим')"
   ]
  },
  {
   "cell_type": "markdown",
   "metadata": {},
   "source": [
    "**Задача 3**\n",
    "\n",
    "Посчитать коэффициенты линейной регрессии для т.н. Квартета Энскомба (см. урок 6)."
   ]
  },
  {
   "cell_type": "code",
   "execution_count": 10,
   "metadata": {},
   "outputs": [
    {
     "name": "stdout",
     "output_type": "stream",
     "text": [
      "('x1', 'y1')\n",
      "==================================================\n",
      "b1 = [[0.50009091]], b0 = [3.00009091]\n",
      "R2 = 0.666542459508775\n",
      "__________________________________________________\n",
      "('x2', 'y2')\n",
      "==================================================\n",
      "b1 = [[0.5]], b0 = [3.00090909]\n",
      "R2 = 0.6662420337274844\n",
      "__________________________________________________\n",
      "('x3', 'y3')\n",
      "==================================================\n",
      "b1 = [[0.49972727]], b0 = [3.00245455]\n",
      "R2 = 0.6663240410665592\n",
      "__________________________________________________\n",
      "('x4', 'y4')\n",
      "==================================================\n",
      "b1 = [[0.49990909]], b0 = [3.00172727]\n",
      "R2 = 0.6667072568984653\n",
      "__________________________________________________\n"
     ]
    }
   ],
   "source": [
    "df = pd.read_csv('anscombe_dataset.csv', index_col='id')\n",
    "pairs = (('x1', 'y1'),('x2', 'y2'),('x3', 'y3'),('x4', 'y4'))\n",
    "for pair in pairs:\n",
    "    print(pair)\n",
    "    print(50*'=')\n",
    "    X = pd.DataFrame(df[pair[0]])\n",
    "    y = pd.DataFrame(df[pair[1]])\n",
    "    model = LinearRegression()\n",
    "    model.fit(X, y)\n",
    "    y_predict = model.predict(X)\n",
    "    print(f'b1 = {model.coef_}, b0 = {model.intercept_}')\n",
    "    print(f'R2 = {r2_score(y, y_predict)}')\n",
    "    print(50*'_')"
   ]
  }
 ],
 "metadata": {
  "kernelspec": {
   "display_name": "Python 3",
   "language": "python",
   "name": "python3"
  },
  "language_info": {
   "codemirror_mode": {
    "name": "ipython",
    "version": 3
   },
   "file_extension": ".py",
   "mimetype": "text/x-python",
   "name": "python",
   "nbconvert_exporter": "python",
   "pygments_lexer": "ipython3",
   "version": "3.7.1"
  },
  "toc": {
   "base_numbering": 1,
   "nav_menu": {},
   "number_sections": true,
   "sideBar": true,
   "skip_h1_title": true,
   "title_cell": "Table of Contents",
   "title_sidebar": "Contents",
   "toc_cell": true,
   "toc_position": {},
   "toc_section_display": true,
   "toc_window_display": false
  },
  "varInspector": {
   "cols": {
    "lenName": 16,
    "lenType": 16,
    "lenVar": 40
   },
   "kernels_config": {
    "python": {
     "delete_cmd_postfix": "",
     "delete_cmd_prefix": "del ",
     "library": "var_list.py",
     "varRefreshCmd": "print(var_dic_list())"
    },
    "r": {
     "delete_cmd_postfix": ") ",
     "delete_cmd_prefix": "rm(",
     "library": "var_list.r",
     "varRefreshCmd": "cat(var_dic_list()) "
    }
   },
   "types_to_exclude": [
    "module",
    "function",
    "builtin_function_or_method",
    "instance",
    "_Feature"
   ],
   "window_display": false
  }
 },
 "nbformat": 4,
 "nbformat_minor": 2
}
