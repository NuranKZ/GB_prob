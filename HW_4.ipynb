{
 "cells": [
  {
   "cell_type": "markdown",
   "metadata": {
    "toc": true
   },
   "source": [
    "<h1>Table of Contents<span class=\"tocSkip\"></span></h1>\n",
    "<div class=\"toc\"><ul class=\"toc-item\"></ul></div>"
   ]
  },
  {
   "cell_type": "code",
   "execution_count": 1,
   "metadata": {},
   "outputs": [],
   "source": [
    "import numpy as np\n",
    "import scipy.stats as sts\n",
    "import seaborn as sns"
   ]
  },
  {
   "cell_type": "markdown",
   "metadata": {},
   "source": [
    "**Задача 1**\n",
    "\n",
    "О непрерывной равномерно распределённой случайной величине B известно, что её дисперсия равна 0.2.  \n",
    "Можно ли найти правую границу величины B и её среднее значение зная, что левая граница равна 0.5? Если да, найдите их."
   ]
  },
  {
   "cell_type": "markdown",
   "metadata": {},
   "source": [
    "**Решение**\n",
    "- Задача сводится к поиску B: (B-0.5)^2 / 12 = 0.2 s.t. B>A  \n",
    "- Имеем кв.уравнение вида: B^2 + B - 2.15 = 0 => B ~ 1.05"
   ]
  },
  {
   "cell_type": "code",
   "execution_count": 36,
   "metadata": {},
   "outputs": [
    {
     "name": "stdout",
     "output_type": "stream",
     "text": [
      "0.20020833333333332\n"
     ]
    }
   ],
   "source": [
    "# check\n",
    "unif = sts.uniform(0.5, 0.5+1.05)\n",
    "print(unif.var())"
   ]
  },
  {
   "cell_type": "markdown",
   "metadata": {},
   "source": [
    "**Задача 2**\n",
    "\n",
    "На сколько сигм (средних квадратических отклонений) отклоняется рост человека, равный 190 см, от математического ожидания роста в популяции, в которой M(X) = 178 и D(X) = 25?"
   ]
  },
  {
   "cell_type": "markdown",
   "metadata": {},
   "source": [
    "**Решение**\n",
    " \n",
    "абсолютное отклонение = 190 - 178 = 12\n",
    "относительное отклонение (в сигмах) = 12/5 = 2,5"
   ]
  },
  {
   "cell_type": "markdown",
   "metadata": {},
   "source": [
    "**Задача 3**\n",
    "\n",
    "- Рост взрослого населения города X имеет нормальное распределение, причём, средний рост равен 174 см, а среднее квадратическое отклонение равно 8 см. \n",
    "- С помощью правил стандартного отклонения, двух и трёх сигм посчитайте, какова вероятность того, что случайным образом выбранный взрослый человек имеет рост:\n",
    "\n",
    "    - больше 182 см?\n",
    "    - больше 190 см?\n",
    "    - от 166 см до 190 см?\n",
    "    - от 166 см до 182 см?\n",
    "    - от 158 см до 190 см?\n",
    "    - не выше 150 см или не ниже 190 см?\n",
    "    - не выше 150 см или не ниже 198 см?\n",
    "    - ниже 166 см?"
   ]
  },
  {
   "cell_type": "markdown",
   "metadata": {},
   "source": [
    "**Решение**\n",
    "\n",
    "- диапазон 1-сигмы = 174 +/- 8 = (166, 182), P(X in interval) ~ 0.68\n",
    "- диапазон 2-сигм = 174 +/- 16 = (158, 190), P(X in interval) ~ 0.95\n",
    "- диапазон 3-сигм = 174 +/- 24 = (150, 198), P(X in interval) ~ 0.997\n",
    "\n",
    "- Решения по списку\n",
    "  - P(x>182) = (1 - P(1-sigma))/2 = 0.16\n",
    "  - P(x>190) = (1 - P(1-2sigma))/2 = 0.025\n",
    "  - P(166<x<190) = P(sigma) + (P(2sigma) - P(sigma))/2 = 0.81\n",
    "  - P(166<x<182) = P(sigma) = 0.68\n",
    "  - P(158<x<190) = P(2sigma) = 0.95\n",
    "  - P(x<150 OR x>190) = (1-P(3sigma))/2 + (1-P(2sigma))/2 = 0.02515\n",
    "  - P(x<150 OR x>199) = 1-P(3sigma) = 0.003\n",
    "  - P(x<166) = (1 - P(sigma))/2 = 0.16"
   ]
  },
  {
   "cell_type": "markdown",
   "metadata": {},
   "source": [
    "**Задача 4 (на подумать)**\n",
    "\n",
    "Каким образом связаны между собой понятие квантиля и правила двух и трёх сигм?\n",
    "\n",
    "Данное задание - на подумать, оформлять его не обязательно. Этот вопрос мы обсудим в начале следующего занятия."
   ]
  },
  {
   "cell_type": "markdown",
   "metadata": {},
   "source": [
    "**Решение**\n",
    "- правила двух-трех сигм однозначно определяют соответствующие квантили\n",
    "  - 2-сигма => (q2,5, q97,5) - > что очень близко (с округлением) к двухстороннему доверительному интервалу\n",
    "  - аналогично про три-сигма -> (q0.15, q99.85)"
   ]
  }
 ],
 "metadata": {
  "kernelspec": {
   "display_name": "Python 3",
   "language": "python",
   "name": "python3"
  },
  "language_info": {
   "codemirror_mode": {
    "name": "ipython",
    "version": 3
   },
   "file_extension": ".py",
   "mimetype": "text/x-python",
   "name": "python",
   "nbconvert_exporter": "python",
   "pygments_lexer": "ipython3",
   "version": "3.7.1"
  },
  "toc": {
   "base_numbering": 1,
   "nav_menu": {},
   "number_sections": true,
   "sideBar": true,
   "skip_h1_title": true,
   "title_cell": "Table of Contents",
   "title_sidebar": "Contents",
   "toc_cell": true,
   "toc_position": {},
   "toc_section_display": true,
   "toc_window_display": false
  },
  "varInspector": {
   "cols": {
    "lenName": 16,
    "lenType": 16,
    "lenVar": 40
   },
   "kernels_config": {
    "python": {
     "delete_cmd_postfix": "",
     "delete_cmd_prefix": "del ",
     "library": "var_list.py",
     "varRefreshCmd": "print(var_dic_list())"
    },
    "r": {
     "delete_cmd_postfix": ") ",
     "delete_cmd_prefix": "rm(",
     "library": "var_list.r",
     "varRefreshCmd": "cat(var_dic_list()) "
    }
   },
   "types_to_exclude": [
    "module",
    "function",
    "builtin_function_or_method",
    "instance",
    "_Feature"
   ],
   "window_display": false
  }
 },
 "nbformat": 4,
 "nbformat_minor": 2
}
