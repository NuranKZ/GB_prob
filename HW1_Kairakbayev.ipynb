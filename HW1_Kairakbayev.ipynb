{
 "cells": [
  {
   "cell_type": "markdown",
   "metadata": {
    "toc": true
   },
   "source": [
    "<h1>Table of Contents<span class=\"tocSkip\"></span></h1>\n",
    "<div class=\"toc\"><ul class=\"toc-item\"></ul></div>"
   ]
  },
  {
   "cell_type": "code",
   "execution_count": 14,
   "metadata": {},
   "outputs": [],
   "source": [
    "import numpy as np\n",
    "from math import factorial\n"
   ]
  },
  {
   "cell_type": "markdown",
   "metadata": {},
   "source": [
    "**Задача 1**\n",
    "\n",
    "Из колоды в 52 карты вынимают случайным образом 4 карты. Найти число исходов, соответствующих тому, что был вытянут хотя бы один туз."
   ]
  },
  {
   "cell_type": "code",
   "execution_count": 22,
   "metadata": {},
   "outputs": [],
   "source": [
    "def combinations(n, k):\n",
    "    return int(factorial(n) / (factorial(k) * factorial(n - k)))\n",
    "\n",
    "def arrangements(n, k):\n",
    "    return int(factorial(n) / factorial(n - k))"
   ]
  },
  {
   "cell_type": "code",
   "execution_count": 21,
   "metadata": {},
   "outputs": [
    {
     "data": {
      "text/plain": [
       "76145"
      ]
     },
     "execution_count": 21,
     "metadata": {},
     "output_type": "execute_result"
    }
   ],
   "source": [
    "# шаг 1. Комбинации тузов\n",
    "one_card_of_4 = combinations(4,1)\n",
    "two_card_of_4 = combinations(4,2)\n",
    "three_card_of_4 = combinations(4,3)\n",
    "four_card_of_4 = combinations(4,4)\n",
    "\n",
    "# шаг 2. Комбинации оставшихся карт с учетом тузов\n",
    "one_card_of_4_res = combinations(48,3)\n",
    "two_card_of_4_res = combinations(48,2)\n",
    "three_card_of_4_res = combinations(48,1)\n",
    "four_card_of_4_res = combinations(48,0)\n",
    "\n",
    "# шаг 3. Расчет общего числа исходов\n",
    "one_card_of_4*one_card_of_4_res + two_card_of_4*two_card_of_4_res + three_card_of_4*three_card_of_4_res+four_card_of_4*four_card_of_4_res\n"
   ]
  },
  {
   "cell_type": "markdown",
   "metadata": {},
   "source": [
    "**Задача 2**\n",
    "\n",
    "Семь человек рассаживаются наудачу на скамейке. Какова вероятность того, что рядом будут сидеть: а) два определённых человека? б) три определённых человека?"
   ]
  },
  {
   "cell_type": "code",
   "execution_count": 40,
   "metadata": {},
   "outputs": [
    {
     "data": {
      "text/plain": [
       "0.2857142857142857"
      ]
     },
     "execution_count": 40,
     "metadata": {},
     "output_type": "execute_result"
    }
   ],
   "source": [
    "# решение для двух персон\n",
    "denom = arrangements(7,7) # всего вариантов рассадки\n",
    "numerator_2_person = arrangements(2,2) # это число вариантов рассадки 2 человек\n",
    "numerator_2_person_res = arrangements(5,5) # это число вариантов рассадки оставшихся 5 человек\n",
    "numerator_2_person_coef = 6 # 6 вариантов рассадки по скамейке\n",
    "prob_2_person = (numerator_2_person * numerator_2_person_res * numerator_2_person_coef) / denom\n",
    "prob_2_person"
   ]
  },
  {
   "cell_type": "code",
   "execution_count": 41,
   "metadata": {},
   "outputs": [
    {
     "data": {
      "text/plain": [
       "0.14285714285714285"
      ]
     },
     "execution_count": 41,
     "metadata": {},
     "output_type": "execute_result"
    }
   ],
   "source": [
    "# решение для трех персон\n",
    "denom = arrangements(7,7) # всего вариантов рассадки\n",
    "numerator_3_person = arrangements(3,3) # это число вариантов рассадки 2 человек\n",
    "numerator_3_person_res = arrangements(4,4) # это число вариантов рассадки оставшихся 5 человек\n",
    "numerator_3_person_coef = 5 # 5 вариантов рассадки по скамейке\n",
    "prob_3_person = (numerator_3_person * numerator_3_person_res * numerator_3_person_coef) / denom\n",
    "prob_3_person"
   ]
  },
  {
   "cell_type": "markdown",
   "metadata": {},
   "source": [
    "**Задача 3**\n",
    "\n",
    "Из 60 вопросов, входящих в экзаменационные билеты, студент знает 50. Какова вероятность того, что среди трёх наугад выбранных вопросов студент знает: а) все? б) два?"
   ]
  },
  {
   "cell_type": "code",
   "execution_count": 48,
   "metadata": {},
   "outputs": [],
   "source": [
    "# вероятность получения счастливого билета = 5/6\n",
    "# тогда вероятность получения 3 удачных билетов = (5/6)^3 ~ 0.23%\n",
    "# тогда вероятность получения 2 удачных билетов = (5/6)^2 x (1/6) ~ 0.02%"
   ]
  },
  {
   "cell_type": "markdown",
   "metadata": {},
   "source": [
    "**Задача 4**\n",
    "\n",
    "Бросается игральная кость. Пусть событие A - появление чётного числа, событие B - появление числа больше трёх. Являются ли эти события независимыми?"
   ]
  },
  {
   "cell_type": "markdown",
   "metadata": {},
   "source": [
    "Решение:\n",
    "проверим через P(AB) = P(A)P(B)\n",
    "P(A) = 0.5\n",
    "P(B) = 0.5\n",
    "Тогда P(AB) = 0.25 из формулы\n",
    "Но если посчитать напрямую P{x = чет и х > 3} = P(4 or 6 of 6) = 2/6 = 0.33 <> 0.25 => события зависимые"
   ]
  },
  {
   "cell_type": "markdown",
   "metadata": {},
   "source": [
    "**Задача 5**\n",
    "\n",
    "Допустим, имеется некоторая очень редкая болезнь (поражает 0.1% населения). Вы приходите к врачу, вам делают тест на эту болезнь, и тест оказывается положительным. Врач говорит вам, что этот тест верно выявляет 99% больных этой болезнью и всего лишь в 1% случаев даёт ложный положительный ответ.\n",
    "\n",
    "Вопрос: какова вероятность, что вы действительно больны ей?\n",
    "\n",
    "Подсказка: вновь используйте формулу Байеса с раскрытием знаменателя с помощью формулы полной вероятности."
   ]
  },
  {
   "cell_type": "markdown",
   "metadata": {},
   "source": [
    "Допустим событие В - тест верен, событие А - заболел\n",
    "тогда  \n",
    "  - Р(B|A) - это вероятность правильности теста при условии наличия болезни = 0,99\n",
    "  - Р(B) - вероятность правильности теста\n",
    "  - Р(А) - вероятность болезни = 0,001\n",
    "  - Р(A|B) - вероятность болезни при условии положительности теста - искомая величина\n",
    "Выразим Р(В) = P(A)P(B|A) + (1 - P(A)) P(B|not A), где P(B| not A) = 0.01  \n",
    "Тогда Р(В) = 0,001 * 0,99 + (1-0,001) * 0,01 = 0.01098\n",
    "P(A|B) = P(A) P(B|A) / P(B) = 0.001 * 0.99 / 0.01098 = 0.09017"
   ]
  }
 ],
 "metadata": {
  "kernelspec": {
   "display_name": "Python 3",
   "language": "python",
   "name": "python3"
  },
  "language_info": {
   "codemirror_mode": {
    "name": "ipython",
    "version": 3
   },
   "file_extension": ".py",
   "mimetype": "text/x-python",
   "name": "python",
   "nbconvert_exporter": "python",
   "pygments_lexer": "ipython3",
   "version": "3.6.6"
  },
  "toc": {
   "base_numbering": 1,
   "nav_menu": {},
   "number_sections": true,
   "sideBar": true,
   "skip_h1_title": true,
   "title_cell": "Table of Contents",
   "title_sidebar": "Contents",
   "toc_cell": true,
   "toc_position": {},
   "toc_section_display": true,
   "toc_window_display": true
  },
  "varInspector": {
   "cols": {
    "lenName": 16,
    "lenType": 16,
    "lenVar": 40
   },
   "kernels_config": {
    "python": {
     "delete_cmd_postfix": "",
     "delete_cmd_prefix": "del ",
     "library": "var_list.py",
     "varRefreshCmd": "print(var_dic_list())"
    },
    "r": {
     "delete_cmd_postfix": ") ",
     "delete_cmd_prefix": "rm(",
     "library": "var_list.r",
     "varRefreshCmd": "cat(var_dic_list()) "
    }
   },
   "types_to_exclude": [
    "module",
    "function",
    "builtin_function_or_method",
    "instance",
    "_Feature"
   ],
   "window_display": false
  }
 },
 "nbformat": 4,
 "nbformat_minor": 2
}
