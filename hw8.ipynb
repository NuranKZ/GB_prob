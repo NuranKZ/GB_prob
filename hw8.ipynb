{
 "cells": [
  {
   "cell_type": "markdown",
   "metadata": {
    "toc": true
   },
   "source": [
    "<h1>Table of Contents<span class=\"tocSkip\"></span></h1>\n",
    "<div class=\"toc\"><ul class=\"toc-item\"></ul></div>"
   ]
  },
  {
   "cell_type": "code",
   "execution_count": 33,
   "metadata": {},
   "outputs": [],
   "source": [
    "import numpy as np\n",
    "import scipy.stats as stats"
   ]
  },
  {
   "cell_type": "markdown",
   "metadata": {},
   "source": [
    "**Задача 1**\n",
    "\n",
    "- Объясняемая переменная y зависит от двух категориальных факторов A и B, причём фактор A имеет 3 уровня, а фактор B - 4 уровня. \n",
    "- Результаты наблюдений приведены в таблице:\n",
    "\n",
    "  - y = [[2.68, 3.29, 2.88, 4.45], [4.12, 4.96, 5.09, 5.22], [5.52, 4.50, 5.42, 5.29]]\n",
    "- С помощью двухфакторного дисперсионного анализа проверьте влияние каждого из факторов на переменную y."
   ]
  },
  {
   "cell_type": "code",
   "execution_count": 34,
   "metadata": {},
   "outputs": [
    {
     "name": "stdout",
     "output_type": "stream",
     "text": [
      "проверка значимости строк\n",
      "Т-статистика = 0.02467801862506026 < 4.25649472909375\n",
      "поэтому строки незначимы\n",
      "проверка значимости столбцов\n",
      "Т-статистика = 0.01645201241670684 < 4.06618055135116\n",
      "поэтому столбцы незначимы\n"
     ]
    }
   ],
   "source": [
    "y = np.array([[2.68, 3.29, 2.88, 4.45], \n",
    "              [4.12, 4.96, 5.09, 5.22], \n",
    "              [5.52, 4.50, 5.42, 5.29]])\n",
    "k = 4\n",
    "m = 3\n",
    "y_mean_by_rows = y.mean(axis=1)\n",
    "y_mean_by_cols = y.mean(axis=0)\n",
    "\n",
    "\n",
    "s2_rows = k * ((y_mean_by_rows - y.mean())**2).sum()\n",
    "s2_cols = m * ((y_mean_by_cols - y.mean())**2).sum()\n",
    "\n",
    "s2_res = 0\n",
    "for idx, row in enumerate(y):\n",
    "    target = ( (row - y_mean_by_rows[idx] - y_mean_by_cols - y.mean())**2 ).sum()\n",
    "    s2_res += target\n",
    "\n",
    "sigma2_rows = s2_rows / (m-1)\n",
    "sigma2_cols = s2_rows / (k-1)\n",
    "sigma2_res = s2_res / ((k-1)*(m-1))\n",
    "\n",
    "T_rows = sigma2_rows / sigma2_res\n",
    "T_cols = sigma2_cols / sigma2_res\n",
    "\n",
    "alpha = 0.05\n",
    "\n",
    "k1_rows = m-1\n",
    "k2_rows = k*m - m\n",
    "\n",
    "k1_cols = k - 1\n",
    "k2_cols = k*m - k\n",
    "\n",
    "F_crit_rows = stats.f.ppf(1 - alpha, k1_rows, k2_rows)\n",
    "F_crit_cols = stats.f.ppf(1 - alpha, k1_cols, k2_cols)\n",
    "\n",
    "print('проверка значимости строк')\n",
    "print(f'Т-статистика = {T_rows} < {F_crit_rows}')\n",
    "print('поэтому строки незначимы')\n",
    "\n",
    "print('проверка значимости столбцов')\n",
    "print(f'Т-статистика = {T_cols} < {F_crit_cols}')\n",
    "print('поэтому столбцы незначимы')"
   ]
  },
  {
   "cell_type": "markdown",
   "metadata": {},
   "source": [
    "**Задача 2**\n",
    "\n",
    "С помощью критерия Стьюдента для двух независимых выборок проверьте гипотезу о равенстве среднего роста футболистов и хоккеистов, основываясь на результатах измерений:\n",
    "\n",
    "football_players = [173, 175, 180, 178, 177, 185, 183, 182]  \n",
    "hockey_players = [177, 179, 180, 188, 177, 172, 171, 184, 180]"
   ]
  },
  {
   "cell_type": "code",
   "execution_count": 40,
   "metadata": {},
   "outputs": [
    {
     "data": {
      "text/plain": [
       "(0.19928601397363732, 2.131449545559323)"
      ]
     },
     "execution_count": 40,
     "metadata": {},
     "output_type": "execute_result"
    }
   ],
   "source": [
    "football_players = np.array([173, 175, 180, 178, 177, 185, 183, 182])\n",
    "hockey_players = np.array([177, 179, 180, 188, 177, 172, 171, 184, 180])\n",
    "numer = (football_players.mean() - hockey_players.mean())\n",
    "denom = np.sqrt(football_players.var(ddof=1)/len(football_players) +\n",
    "               hockey_players.var(ddof=1)/len(hockey_players))\n",
    "\n",
    "T = numer/denom\n",
    "ddof = len(football_players) + len(hockey_players) - 2\n",
    "alpha = 0.05\n",
    "T_crit = stats.t.ppf(1-alpha/2, df=ddof)\n",
    "T, T_crit\n",
    "print('T<Tcrit, гипотеза о равенстве подтверждается')"
   ]
  }
 ],
 "metadata": {
  "kernelspec": {
   "display_name": "Python 3",
   "language": "python",
   "name": "python3"
  },
  "language_info": {
   "codemirror_mode": {
    "name": "ipython",
    "version": 3
   },
   "file_extension": ".py",
   "mimetype": "text/x-python",
   "name": "python",
   "nbconvert_exporter": "python",
   "pygments_lexer": "ipython3",
   "version": "3.6.6"
  },
  "toc": {
   "base_numbering": 1,
   "nav_menu": {},
   "number_sections": true,
   "sideBar": true,
   "skip_h1_title": true,
   "title_cell": "Table of Contents",
   "title_sidebar": "Contents",
   "toc_cell": true,
   "toc_position": {},
   "toc_section_display": true,
   "toc_window_display": true
  },
  "varInspector": {
   "cols": {
    "lenName": 16,
    "lenType": 16,
    "lenVar": 40
   },
   "kernels_config": {
    "python": {
     "delete_cmd_postfix": "",
     "delete_cmd_prefix": "del ",
     "library": "var_list.py",
     "varRefreshCmd": "print(var_dic_list())"
    },
    "r": {
     "delete_cmd_postfix": ") ",
     "delete_cmd_prefix": "rm(",
     "library": "var_list.r",
     "varRefreshCmd": "cat(var_dic_list()) "
    }
   },
   "types_to_exclude": [
    "module",
    "function",
    "builtin_function_or_method",
    "instance",
    "_Feature"
   ],
   "window_display": false
  }
 },
 "nbformat": 4,
 "nbformat_minor": 2
}
