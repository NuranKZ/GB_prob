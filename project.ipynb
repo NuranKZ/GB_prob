{
 "cells": [
  {
   "cell_type": "markdown",
   "metadata": {
    "toc": true
   },
   "source": [
    "<h1>Table of Contents<span class=\"tocSkip\"></span></h1>\n",
    "<div class=\"toc\"><ul class=\"toc-item\"><li><span><a href=\"#Загрузка-и-подготовка-данных\" data-toc-modified-id=\"Загрузка-и-подготовка-данных-1\"><span class=\"toc-item-num\">1&nbsp;&nbsp;</span>Загрузка и подготовка данных</a></span><ul class=\"toc-item\"><li><span><a href=\"#Загрузка-данных\" data-toc-modified-id=\"Загрузка-данных-1.1\"><span class=\"toc-item-num\">1.1&nbsp;&nbsp;</span>Загрузка данных</a></span></li><li><span><a href=\"#Преобразование-данных-(форматирование)\" data-toc-modified-id=\"Преобразование-данных-(форматирование)-1.2\"><span class=\"toc-item-num\">1.2&nbsp;&nbsp;</span>Преобразование данных (форматирование)</a></span></li><li><span><a href=\"#Пропущенные-данные\" data-toc-modified-id=\"Пропущенные-данные-1.3\"><span class=\"toc-item-num\">1.3&nbsp;&nbsp;</span>Пропущенные данные</a></span></li></ul></li><li><span><a href=\"#Моделирование\" data-toc-modified-id=\"Моделирование-2\"><span class=\"toc-item-num\">2&nbsp;&nbsp;</span>Моделирование</a></span><ul class=\"toc-item\"><li><span><a href=\"#Базовые-функции\" data-toc-modified-id=\"Базовые-функции-2.1\"><span class=\"toc-item-num\">2.1&nbsp;&nbsp;</span>Базовые функции</a></span></li><li><span><a href=\"#Обучение-моделей-на-базовых-гиперпараметрах-(&quot;Vanilla-Model&quot;)\" data-toc-modified-id=\"Обучение-моделей-на-базовых-гиперпараметрах-(&quot;Vanilla-Model&quot;)-2.2\"><span class=\"toc-item-num\">2.2&nbsp;&nbsp;</span>Обучение моделей на базовых гиперпараметрах (\"Vanilla Model\")</a></span></li><li><span><a href=\"#Расчет-результативности-с-применением-resampling-(опция---SMOTE)\" data-toc-modified-id=\"Расчет-результативности-с-применением-resampling-(опция---SMOTE)-2.3\"><span class=\"toc-item-num\">2.3&nbsp;&nbsp;</span>Расчет результативности с применением resampling (опция - SMOTE)</a></span></li><li><span><a href=\"#Поиск-оптимальных-гиперпараметров-для-град.спуска\" data-toc-modified-id=\"Поиск-оптимальных-гиперпараметров-для-град.спуска-2.4\"><span class=\"toc-item-num\">2.4&nbsp;&nbsp;</span>Поиск оптимальных гиперпараметров для град.спуска</a></span></li><li><span><a href=\"#Финальная-модель.-Сравнительный-анализ\" data-toc-modified-id=\"Финальная-модель.-Сравнительный-анализ-2.5\"><span class=\"toc-item-num\">2.5&nbsp;&nbsp;</span>Финальная модель. Сравнительный анализ</a></span></li></ul></li><li><span><a href=\"#Выводы\" data-toc-modified-id=\"Выводы-3\"><span class=\"toc-item-num\">3&nbsp;&nbsp;</span>Выводы</a></span></li></ul></div>"
   ]
  },
  {
   "cell_type": "markdown",
   "metadata": {},
   "source": [
    "**README FIRST**\n",
    "\n",
    "\n",
    "- в настоящей работе проведено исследование по построению мультиклассового классификатора с использованием алгоритмов логистической регрессии\n",
    "\n",
    "\n",
    "- при этом, в качестве исходных данных была взята выборка футболистов электронной игры FIFA19\n",
    "  - источник данных [здесь](https://www.kaggle.com/karangadiya/fifa19)\n",
    "  - всего 89 столбцов и около 18 тыс. записей\n",
    "  \n",
    "  \n",
    "- в качестве анализируемого класса была взята позиция футболиста на поле\n",
    "  - всего - 27 классов\n",
    "  \n",
    "\n",
    "- методология:\n",
    "  - учитывая большое кол-во классов, в целях экономии расчетного времени, выбрана стратегия - One-vs-All\n",
    "  - т.е. финальная модель содержит 27 отдельных, независимых моделей\n",
    "  - алгоритм логистической регрессии реализован вручную следующими функциями (в 2.1)\n",
    "    - `sigmoid(x)` - функция, возвращающая значение сигмоид-функции\n",
    "    - `binary_prediction(probabilities, threshold=0.5)` - возвращает массив бинарных классов в зависимости от вероятностей\n",
    "    - `grad_desc(X, y, max_iterations, alpha, initial_weight=None)` - реализует метод градиентного спуска с вызовом сигмоид-функции для ошибок и возвращает массив весов\n",
    "    - инструкция `y_hat_test = sigmoid(np.dot(X_test, weights))` - рассчитывает прогнозные веса для дальнейшего расчета меток классов\n",
    "\n",
    "\n",
    "- подготовка данных:\n",
    "  - Учитывая \"scratch\"-версию алгоритма, обучение модели проходило с использованием менее трудоемкого варианта Train-test-split вместо кросс-валидации\n",
    "  - для каждой пары \"class A - class Not A\" запускалась отдельная модель и отдельный препроцессинг данных\n",
    "  - для этого реализована функции `one_vs_all_split`: \n",
    "    - которая на вход принимает Х и y, а также значение целевого класса\n",
    "    - преобразует массив y - в массив бинарных метод\n",
    "    - осуществляет разбивку train-test-split\n",
    "    - осуществляет масштабирование Х\n",
    "    - возвращает готовые для моделирования массивы Х и у для обучения и валидации\n",
    "\n",
    "\n",
    "- модуль SMOTE:\n",
    "  - в основном все классы - не сбалансированы вследствие их разнообразия и стратегии 1-vs-all\n",
    "  - поэтому в модели используется метод SMOTE библиотеки imblearn, позволяющий осуществлять resampling для балансировки X_train, y_train\n",
    "\n",
    "\n",
    "- Оценка прогнозов:\n",
    "  - в качестве метрики для оценки качества моделей выбраны accuracy score и f1-score\n",
    "  - при этом вторая метрика является более предпочтительной вследствии слабой сбалансированности классов, когда высокие значение accuracy - мало информативны\n",
    "  - дополнительно (для иллюстративных целей) реализована функция plot_confusion_matrix, строящая confusion_matrix\n",
    "  \n",
    "\n",
    "- Финальная оценка\n",
    "  - для финальной оценки прогнозы отдельных классов были консолидированы в общий массив и в качестве итоговой метрики проверены совпадения с тестовой (мультиклассовой) выборкой\n",
    "  - при этом была проверена сходимость метрики с прогнозами, выполненными функциями библиотеки SKLEARN"
   ]
  },
  {
   "cell_type": "code",
   "execution_count": 116,
   "metadata": {},
   "outputs": [],
   "source": [
    "# 1. Импорт необходимых библиотек и общие настройки\n",
    "import numpy as np\n",
    "import pandas as pd\n",
    "import matplotlib.pyplot as plt\n",
    "import seaborn as sns\n",
    "#import itertools\n",
    "%matplotlib inline\n",
    "\n",
    "from sklearn.model_selection import train_test_split\n",
    "from sklearn.preprocessing import MinMaxScaler\n",
    "from sklearn.metrics import confusion_matrix\n",
    "from sklearn.metrics import f1_score, accuracy_score\n",
    "from sklearn.linear_model import LogisticRegression\n",
    "from imblearn.over_sampling import SMOTE\n",
    "import warnings\n",
    "warnings.filterwarnings('ignore')"
   ]
  },
  {
   "cell_type": "markdown",
   "metadata": {},
   "source": [
    "## Загрузка и подготовка данных"
   ]
  },
  {
   "cell_type": "markdown",
   "metadata": {},
   "source": [
    "### Загрузка данных"
   ]
  },
  {
   "cell_type": "code",
   "execution_count": 190,
   "metadata": {},
   "outputs": [],
   "source": [
    "# 2. Загрузка данных\n",
    "\n",
    "raw_data = pd.read_csv('data.csv')\n",
    "\n",
    "# выбранные вручную данные для классификационной задачи\n",
    "X_cols = ['Age','Overall','Wage','Special','Preferred Foot','Weak Foot','Skill Moves', 'Body Type',\n",
    "         'Height', 'Weight', 'Crossing','Finishing', 'HeadingAccuracy', 'ShortPassing', 'Volleys', 'Dribbling',\n",
    "         'Curve', 'FKAccuracy', 'LongPassing', 'BallControl', 'Acceleration','SprintSpeed', 'Agility', \n",
    "         'Reactions', 'Balance', 'ShotPower', 'Jumping', 'Stamina', 'Strength', 'LongShots', 'Aggression',\n",
    "         'Interceptions', 'Positioning', 'Vision', 'Penalties', 'Composure', 'Marking', 'StandingTackle', \n",
    "          'SlidingTackle', 'GKDiving', 'GKHandling', 'GKKicking', 'GKPositioning', 'GKReflexes']\n",
    "\n",
    "# в качестве класса - взята позиция футболиста на поле\n",
    "raw_classes = ['Position']\n",
    "\n",
    "# предварительная подготовка данных\n",
    "X_raw = raw_data[X_cols]\n",
    "y_raw = raw_data[raw_classes]"
   ]
  },
  {
   "cell_type": "markdown",
   "metadata": {},
   "source": [
    "### Преобразование данных (форматирование)"
   ]
  },
  {
   "cell_type": "code",
   "execution_count": 191,
   "metadata": {},
   "outputs": [],
   "source": [
    "# примечание: \n",
    "# здесь я убрал из кода стандартные проверки типа info(), describe()\n",
    "# а привожу уже решения (модификации данных) на основе внутреннего анализа\n",
    "\n",
    "\n",
    "# 1. STR -> INT for [wage, height, weight]\n",
    "\n",
    "wage_int = [int(x[1:-1])  if x!='€0' else 0 for x in X_raw.Wage]\n",
    "X_raw.drop(columns=['Wage'], axis=1, inplace=True)\n",
    "X_raw['Wage'] = wage_int\n",
    "\n",
    "\n",
    "FEET_CM = 30.48\n",
    "INCH_CM = 2.54\n",
    "height = []\n",
    "for h in X_raw.Height:\n",
    "    if h != np.nan and type(h) == str:\n",
    "        h1 = h.split(\"'\")\n",
    "        height.append(int(h1[0])*FEET_CM + int(h1[1])*INCH_CM)\n",
    "    else:\n",
    "        height.append(h)\n",
    "X_raw.drop(columns=['Height'], axis=1, inplace=True)\n",
    "X_raw['Height'] = height\n",
    "\n",
    "weight_int = [int(x[:-3])  if type(x)==str else x for x in X_raw.Weight]\n",
    "X_raw.drop(columns=['Weight'], axis=1, inplace=True)\n",
    "X_raw['Weight'] = weight_int\n",
    "\n",
    "\n",
    "# 2. Categorical Vars binning for [Preferred Foot, Body Type]\n",
    "X_raw = pd.get_dummies(X_raw)"
   ]
  },
  {
   "cell_type": "markdown",
   "metadata": {},
   "source": [
    "### Пропущенные данные"
   ]
  },
  {
   "cell_type": "code",
   "execution_count": 192,
   "metadata": {},
   "outputs": [
    {
     "name": "stdout",
     "output_type": "stream",
     "text": [
      "Age 0\n",
      "Overall 0\n",
      "Special 0\n",
      "Weak Foot 48\n",
      "Skill Moves 48\n",
      "Crossing 48\n",
      "Finishing 48\n",
      "HeadingAccuracy 48\n",
      "ShortPassing 48\n",
      "Volleys 48\n",
      "Dribbling 48\n",
      "Curve 48\n",
      "FKAccuracy 48\n",
      "LongPassing 48\n",
      "BallControl 48\n",
      "Acceleration 48\n",
      "SprintSpeed 48\n",
      "Agility 48\n",
      "Reactions 48\n",
      "Balance 48\n",
      "ShotPower 48\n",
      "Jumping 48\n",
      "Stamina 48\n",
      "Strength 48\n",
      "LongShots 48\n",
      "Aggression 48\n",
      "Interceptions 48\n",
      "Positioning 48\n",
      "Vision 48\n",
      "Penalties 48\n",
      "Composure 48\n",
      "Marking 48\n",
      "StandingTackle 48\n",
      "SlidingTackle 48\n",
      "GKDiving 48\n",
      "GKHandling 48\n",
      "GKKicking 48\n",
      "GKPositioning 48\n",
      "GKReflexes 48\n",
      "Wage 0\n",
      "Height 48\n",
      "Weight 48\n",
      "Preferred Foot_Left 0\n",
      "Preferred Foot_Right 0\n",
      "Body Type_Akinfenwa 0\n",
      "Body Type_C. Ronaldo 0\n",
      "Body Type_Courtois 0\n",
      "Body Type_Lean 0\n",
      "Body Type_Messi 0\n",
      "Body Type_Neymar 0\n",
      "Body Type_Normal 0\n",
      "Body Type_PLAYER_BODY_TYPE_25 0\n",
      "Body Type_Shaqiri 0\n",
      "Body Type_Stocky 0\n",
      "Position    60\n",
      "dtype: int64\n"
     ]
    },
    {
     "data": {
      "text/plain": [
       "0"
      ]
     },
     "metadata": {},
     "output_type": "display_data"
    },
    {
     "data": {
      "text/plain": [
       "12"
      ]
     },
     "metadata": {},
     "output_type": "display_data"
    }
   ],
   "source": [
    "# 1. Идентификация\n",
    "\n",
    "for col in X_raw.columns:\n",
    "    print(col, X_raw[col].isna().sum())\n",
    "print(y_raw.isna().sum())\n",
    "\n",
    "# судя по одинаковому кол-ву пропущенных значений (48) в матрице факторов, данные пропуски характерны\n",
    "# для идентичных индексов. Исходя из малого кол-ва пропусков, предлагаю удалить данные записи.\n",
    "\n",
    "# для проверки идентичности индексов запустим сбор пропущенных наблюдений по первому предиктору (Weak Foot), а затем \n",
    "# повторно проверим пропуски\n",
    "missing_index = X_raw['Weak Foot'].isna() * X_raw.index\n",
    "missing_index = np.array(list(set(missing_index) - set([0])))\n",
    "\n",
    "display(X_raw.drop(index=missing_index, axis=0, inplace=False).isna().sum().sum())\n",
    "# как показывает результат повторной проверки  - пропущенные данные отсутствуют\n",
    "\n",
    "# проверим пропуски в векторе-классов с учетом удаления ранее идентифицированных индексов \n",
    "# изначальное кол-во пропусков = 60\n",
    "display(y_raw.drop(index=missing_index, axis=0, inplace=False).isna().sum().sum())\n",
    "\n",
    "# таким образом остается 12 пропусков, которые также предлагается удалить\n",
    "missing_index_full = y_raw['Position'].isna() * y_raw.index\n",
    "missing_index_full = np.array(list(set(missing_index_full) - set([0])))\n",
    "\n",
    "# 2. Удаление пропусков\n",
    "X_raw.drop(index=missing_index_full, axis=0, inplace=True)\n",
    "y_raw.drop(index=missing_index_full, axis=0, inplace=True)"
   ]
  },
  {
   "cell_type": "markdown",
   "metadata": {},
   "source": [
    "## Моделирование"
   ]
  },
  {
   "cell_type": "markdown",
   "metadata": {},
   "source": [
    "### Базовые функции"
   ]
  },
  {
   "cell_type": "code",
   "execution_count": 193,
   "metadata": {},
   "outputs": [],
   "source": [
    "# 1. сигмоид-функция\n",
    "def sigmoid(x): \n",
    "    x = np.array(x)\n",
    "    return 1/(1 + np.e**(-1*x))\n",
    "\n",
    "# 2. градиентный спуск\n",
    "def grad_desc(X, y, max_iterations, alpha, initial_weights=None):\n",
    "    if initial_weights == None:\n",
    "        initial_weights = np.ones((X.shape[1],1)).flatten()\n",
    "    weights = initial_weights\n",
    "    for iteration in range(max_iterations):\n",
    "        predictions = sigmoid(np.dot(X,weights))\n",
    "        error_vector = y - predictions\n",
    "        gradient = np.dot(X.transpose(),error_vector)\n",
    "        weights += alpha * gradient\n",
    "    return weights\n",
    "\n",
    "# 3. Функция для перевода вероятностей в классы\n",
    "def binary_prediction(probabilities, threshold=.5):\n",
    "    classes = []\n",
    "    for p in probabilities:\n",
    "        if p >= threshold:\n",
    "            classes.append(1)\n",
    "        else:\n",
    "            classes.append(0)\n",
    "    return classes\n",
    "\n",
    "\n",
    "\n",
    "# 5. Функция подготовки данных для перебора классов по стратегии \"1-vs-all\" c масштабированием признаков\n",
    "def one_vs_all_split(X,y, class_label, test_weight=0.25, random_state=37, use_smote='no'):\n",
    "    y_modified = pd.Series([1 if y.Position[i]==class_label else 0 for i in y.index])\n",
    "    X_train, X_test, y_train, y_test = train_test_split(X, y_modified, \n",
    "                                                        test_size=test_weight, random_state=random_state)\n",
    "    X_train_cols = X_train.columns\n",
    "    if use_smote == 'yes':\n",
    "        smote = SMOTE(sampling_strategy='auto', n_jobs=-1)\n",
    "        X_train, y_train = smote.fit_sample(X_train, y_train)\n",
    "        \n",
    "    scaler = MinMaxScaler()\n",
    "    X_train_scaler = scaler.fit_transform(X_train)\n",
    "    X_train_scaled = pd.DataFrame(data=X_train_scaler, columns=X_train_cols)\n",
    "    X_test_scaler = scaler.transform(X_test)\n",
    "    X_test_scaled = pd.DataFrame(data=X_test_scaler, columns=X_train_cols)\n",
    "    return X_train_scaled, X_test_scaled, y_train, y_test\n",
    "\n",
    "# 6. Функция для визуализации confusion matrix\n",
    "def plot_confusion_matrix(y_pred, y_test, class_label_name):\n",
    "    cnf_matrix = confusion_matrix(y_pred, y_test)\n",
    "    plt.imshow(cnf_matrix,  cmap=plt.cm.Blues)\n",
    "    plt.title(f'Confusion Matrix on {class_label_name}')\n",
    "    plt.ylabel('True class')\n",
    "    plt.xlabel('Predicted class')\n",
    "    class_names = set(y_test)\n",
    "    tick_marks = np.arange(len(class_names))\n",
    "    plt.xticks(tick_marks, class_names, rotation=45)\n",
    "    plt.yticks(tick_marks, class_names)\n",
    "    thresh = cnf_matrix.max() / 2.\n",
    "    for i, j in itertools.product(range(cnf_matrix.shape[0]), range(cnf_matrix.shape[1])):\n",
    "            plt.text(j, i, cnf_matrix[i, j],\n",
    "                     horizontalalignment=\"center\",\n",
    "                     color=\"white\" if cnf_matrix[i, j] > thresh else \"black\")\n",
    "    plt.colorbar()\n",
    "    plt.show()"
   ]
  },
  {
   "cell_type": "code",
   "execution_count": 194,
   "metadata": {},
   "outputs": [
    {
     "data": {
      "image/png": "[encoded data removed]",
      "text/plain": [
       "<Figure size 432x288 with 2 Axes>"
      ]
     },
     "metadata": {
      "needs_background": "light"
     },
     "output_type": "display_data"
    },
    {
     "data": {
      "text/plain": [
       "0.9380648005289839"
      ]
     },
     "metadata": {},
     "output_type": "display_data"
    },
    {
     "data": {
      "text/plain": [
       "0.0"
      ]
     },
     "metadata": {},
     "output_type": "display_data"
    }
   ],
   "source": [
    "# тестовый запуск\n",
    "X_train, X_test, y_train, y_test = one_vs_all_split(X_raw, y_raw, 'RM')\n",
    "\n",
    "weights = grad_desc(X_train, y_train, 5000, 0.001) # производит fit (обучение) на Train data\n",
    "y_hat_test = sigmoid(np.dot(X_test, weights)) # рассчитываем target\n",
    "test_predictions = binary_prediction(y_hat_test)\n",
    "accuracy_score(y_test, test_predictions)\n",
    "\n",
    "plot_confusion_matrix(test_predictions, y_test, 'RM')\n",
    "\n",
    "display(accuracy_score(y_test, test_predictions))\n",
    "display(f1_score(y_test, test_predictions))"
   ]
  },
  {
   "cell_type": "markdown",
   "metadata": {},
   "source": [
    "- Как видно из значений accuracy_score и f1_score, модель характеризуется высоким значением accuracy, что связано с большим весом Negative-class, но при этом имеется относительно высокое значение FP  \n",
    "- как итог, значение f1_score - близко к нулю, что говорит о необходимости возможного resampling\n",
    "- возможно, такие результаты связаны с особенности выбранного класса ('RM'), поэтому в следующем разделе будет запущены модели по всем имеющимся классам"
   ]
  },
  {
   "cell_type": "markdown",
   "metadata": {},
   "source": [
    "### Обучение моделей на базовых гиперпараметрах (\"Vanilla Model\")"
   ]
  },
  {
   "cell_type": "code",
   "execution_count": 197,
   "metadata": {},
   "outputs": [
    {
     "name": "stdout",
     "output_type": "stream",
     "text": [
      "GK start calc ...\n",
      "..done!\n",
      "LM start calc ...\n",
      "..done!\n",
      "RCB start calc ...\n",
      "..done!\n",
      "CF start calc ...\n",
      "..done!\n",
      "CAM start calc ...\n",
      "..done!\n",
      "RCM start calc ...\n",
      "..done!\n",
      "CDM start calc ...\n",
      "..done!\n",
      "CB start calc ...\n",
      "..done!\n",
      "RB start calc ...\n",
      "..done!\n",
      "LAM start calc ...\n",
      "..done!\n",
      "RW start calc ...\n",
      "..done!\n",
      "ST start calc ...\n",
      "..done!\n",
      "RAM start calc ...\n",
      "..done!\n",
      "LCB start calc ...\n",
      "..done!\n",
      "LW start calc ...\n",
      "..done!\n",
      "RM start calc ...\n",
      "..done!\n",
      "LCM start calc ...\n",
      "..done!\n",
      "RDM start calc ...\n",
      "..done!\n",
      "LDM start calc ...\n",
      "..done!\n",
      "LWB start calc ...\n",
      "..done!\n",
      "RS start calc ...\n",
      "..done!\n",
      "CM start calc ...\n",
      "..done!\n",
      "LB start calc ...\n",
      "..done!\n",
      "RWB start calc ...\n",
      "..done!\n",
      "RF start calc ...\n",
      "..done!\n",
      "LS start calc ...\n",
      "..done!\n",
      "LF start calc ...\n",
      "..done!\n"
     ]
    }
   ],
   "source": [
    "# cформируем сводный словарь позиций, куда в дальнейшем будем складывать результаты\n",
    "player_labels = set(y_raw['Position'])\n",
    "max_iter = 5000\n",
    "alpha = 1e-7\n",
    "player_label_list, acc_list, f1_list = [], [], []\n",
    "\n",
    "\n",
    "# запуск цикла по бинарным классификаторам\n",
    "for player in player_labels:\n",
    "    X_train, X_test, y_train, y_test = one_vs_all_split(X_raw, y_raw, player) # подготовка данных\n",
    "    print(f'{player} start calc ...')\n",
    "    weights = grad_desc(X_train, y_train, max_iter, alpha) # обучение модели\n",
    "    y_hat_test = sigmoid(np.dot(X_test, weights)) # расчет вероятностей\n",
    "    test_predictions = binary_prediction(y_hat_test) # прогноз классов\n",
    "    player_label_list.append(player)\n",
    "    acc_list.append(accuracy_score(y_test, test_predictions))\n",
    "    f1_list.append(f1_score(y_test, test_predictions))\n",
    "    print('..done!')"
   ]
  },
  {
   "cell_type": "code",
   "execution_count": 198,
   "metadata": {},
   "outputs": [
    {
     "data": {
      "text/html": [
       "<div>\n",
       "<style scoped>\n",
       "    .dataframe tbody tr th:only-of-type {\n",
       "        vertical-align: middle;\n",
       "    }\n",
       "\n",
       "    .dataframe tbody tr th {\n",
       "        vertical-align: top;\n",
       "    }\n",
       "\n",
       "    .dataframe thead th {\n",
       "        text-align: right;\n",
       "    }\n",
       "</style>\n",
       "<table border=\"1\" class=\"dataframe\">\n",
       "  <thead>\n",
       "    <tr style=\"text-align: right;\">\n",
       "      <th></th>\n",
       "      <th>Accuracy</th>\n",
       "      <th>F1-score</th>\n",
       "    </tr>\n",
       "  </thead>\n",
       "  <tbody>\n",
       "    <tr>\n",
       "      <th>count</th>\n",
       "      <td>27.000000</td>\n",
       "      <td>27.000000</td>\n",
       "    </tr>\n",
       "    <tr>\n",
       "      <th>mean</th>\n",
       "      <td>0.957126</td>\n",
       "      <td>0.036934</td>\n",
       "    </tr>\n",
       "    <tr>\n",
       "      <th>std</th>\n",
       "      <td>0.041695</td>\n",
       "      <td>0.191917</td>\n",
       "    </tr>\n",
       "    <tr>\n",
       "      <th>min</th>\n",
       "      <td>0.846815</td>\n",
       "      <td>0.000000</td>\n",
       "    </tr>\n",
       "    <tr>\n",
       "      <th>25%</th>\n",
       "      <td>0.930791</td>\n",
       "      <td>0.000000</td>\n",
       "    </tr>\n",
       "    <tr>\n",
       "      <th>50%</th>\n",
       "      <td>0.972669</td>\n",
       "      <td>0.000000</td>\n",
       "    </tr>\n",
       "    <tr>\n",
       "      <th>75%</th>\n",
       "      <td>0.991624</td>\n",
       "      <td>0.000000</td>\n",
       "    </tr>\n",
       "    <tr>\n",
       "      <th>max</th>\n",
       "      <td>0.999339</td>\n",
       "      <td>0.997230</td>\n",
       "    </tr>\n",
       "  </tbody>\n",
       "</table>\n",
       "</div>"
      ],
      "text/plain": [
       "        Accuracy   F1-score\n",
       "count  27.000000  27.000000\n",
       "mean    0.957126   0.036934\n",
       "std     0.041695   0.191917\n",
       "min     0.846815   0.000000\n",
       "25%     0.930791   0.000000\n",
       "50%     0.972669   0.000000\n",
       "75%     0.991624   0.000000\n",
       "max     0.999339   0.997230"
      ]
     },
     "execution_count": 198,
     "metadata": {},
     "output_type": "execute_result"
    }
   ],
   "source": [
    "results = pd.DataFrame([])\n",
    "results['Player Type'] = player_label_list\n",
    "results['Accuracy'] = acc_list\n",
    "results['F1-score'] = f1_list\n",
    "results.describe()"
   ]
  },
  {
   "cell_type": "markdown",
   "metadata": {},
   "source": [
    "- как и в предыдущем прогоне модели, данная модель показывает экстремально низкие значения f1_score (в среднем около 4%, поэтому разумным решением является активация опции `use_smote=\"yes\"`"
   ]
  },
  {
   "cell_type": "markdown",
   "metadata": {},
   "source": [
    "### Расчет результативности с применением resampling (опция - SMOTE)"
   ]
  },
  {
   "cell_type": "code",
   "execution_count": 199,
   "metadata": {},
   "outputs": [
    {
     "name": "stdout",
     "output_type": "stream",
     "text": [
      "GK start calc ...\n",
      "..done!\n",
      "LM start calc ...\n",
      "..done!\n",
      "RCB start calc ...\n",
      "..done!\n",
      "CF start calc ...\n",
      "..done!\n",
      "CAM start calc ...\n",
      "..done!\n",
      "RCM start calc ...\n",
      "..done!\n",
      "CDM start calc ...\n",
      "..done!\n",
      "CB start calc ...\n",
      "..done!\n",
      "RB start calc ...\n",
      "..done!\n",
      "LAM start calc ...\n",
      "..done!\n",
      "RW start calc ...\n",
      "..done!\n",
      "ST start calc ...\n",
      "..done!\n",
      "RAM start calc ...\n",
      "..done!\n",
      "LCB start calc ...\n",
      "..done!\n",
      "LW start calc ...\n",
      "..done!\n",
      "RM start calc ...\n",
      "..done!\n",
      "LCM start calc ...\n",
      "..done!\n",
      "RDM start calc ...\n",
      "..done!\n",
      "LDM start calc ...\n",
      "..done!\n",
      "LWB start calc ...\n",
      "..done!\n",
      "RS start calc ...\n",
      "..done!\n",
      "CM start calc ...\n",
      "..done!\n",
      "LB start calc ...\n",
      "..done!\n",
      "RWB start calc ...\n",
      "..done!\n",
      "RF start calc ...\n",
      "..done!\n",
      "LS start calc ...\n",
      "..done!\n",
      "LF start calc ...\n",
      "..done!\n"
     ]
    },
    {
     "data": {
      "text/html": [
       "<div>\n",
       "<style scoped>\n",
       "    .dataframe tbody tr th:only-of-type {\n",
       "        vertical-align: middle;\n",
       "    }\n",
       "\n",
       "    .dataframe tbody tr th {\n",
       "        vertical-align: top;\n",
       "    }\n",
       "\n",
       "    .dataframe thead th {\n",
       "        text-align: right;\n",
       "    }\n",
       "</style>\n",
       "<table border=\"1\" class=\"dataframe\">\n",
       "  <thead>\n",
       "    <tr style=\"text-align: right;\">\n",
       "      <th></th>\n",
       "      <th>Accuracy</th>\n",
       "      <th>F1-score</th>\n",
       "      <th>Accuracy_resampling</th>\n",
       "      <th>F1-score_resampling</th>\n",
       "    </tr>\n",
       "  </thead>\n",
       "  <tbody>\n",
       "    <tr>\n",
       "      <th>count</th>\n",
       "      <td>27.000000</td>\n",
       "      <td>27.000000</td>\n",
       "      <td>27.000000</td>\n",
       "      <td>27.000000</td>\n",
       "    </tr>\n",
       "    <tr>\n",
       "      <th>mean</th>\n",
       "      <td>0.957126</td>\n",
       "      <td>0.036934</td>\n",
       "      <td>0.632936</td>\n",
       "      <td>0.148340</td>\n",
       "    </tr>\n",
       "    <tr>\n",
       "      <th>std</th>\n",
       "      <td>0.041695</td>\n",
       "      <td>0.191917</td>\n",
       "      <td>0.123380</td>\n",
       "      <td>0.208543</td>\n",
       "    </tr>\n",
       "    <tr>\n",
       "      <th>min</th>\n",
       "      <td>0.846815</td>\n",
       "      <td>0.000000</td>\n",
       "      <td>0.438395</td>\n",
       "      <td>0.001474</td>\n",
       "    </tr>\n",
       "    <tr>\n",
       "      <th>25%</th>\n",
       "      <td>0.930791</td>\n",
       "      <td>0.000000</td>\n",
       "      <td>0.517523</td>\n",
       "      <td>0.039504</td>\n",
       "    </tr>\n",
       "    <tr>\n",
       "      <th>50%</th>\n",
       "      <td>0.972669</td>\n",
       "      <td>0.000000</td>\n",
       "      <td>0.634560</td>\n",
       "      <td>0.059057</td>\n",
       "    </tr>\n",
       "    <tr>\n",
       "      <th>75%</th>\n",
       "      <td>0.991624</td>\n",
       "      <td>0.000000</td>\n",
       "      <td>0.704981</td>\n",
       "      <td>0.165049</td>\n",
       "    </tr>\n",
       "    <tr>\n",
       "      <th>max</th>\n",
       "      <td>0.999339</td>\n",
       "      <td>0.997230</td>\n",
       "      <td>1.000000</td>\n",
       "      <td>1.000000</td>\n",
       "    </tr>\n",
       "  </tbody>\n",
       "</table>\n",
       "</div>"
      ],
      "text/plain": [
       "        Accuracy   F1-score  Accuracy_resampling  F1-score_resampling\n",
       "count  27.000000  27.000000            27.000000            27.000000\n",
       "mean    0.957126   0.036934             0.632936             0.148340\n",
       "std     0.041695   0.191917             0.123380             0.208543\n",
       "min     0.846815   0.000000             0.438395             0.001474\n",
       "25%     0.930791   0.000000             0.517523             0.039504\n",
       "50%     0.972669   0.000000             0.634560             0.059057\n",
       "75%     0.991624   0.000000             0.704981             0.165049\n",
       "max     0.999339   0.997230             1.000000             1.000000"
      ]
     },
     "execution_count": 199,
     "metadata": {},
     "output_type": "execute_result"
    }
   ],
   "source": [
    "acc_list_wResampling, f1_list_wResampling = [], []\n",
    "\n",
    "# запуск цикла по бинарным классификаторам c опцией use_smote='yes'\n",
    "for player in player_labels:\n",
    "    X_train, X_test, y_train, y_test = one_vs_all_split(X_raw, y_raw, player, use_smote='yes')\n",
    "    print(f'{player} start calc ...')\n",
    "    weights = grad_desc(X_train, y_train, max_iter, alpha)\n",
    "    y_hat_test = sigmoid(np.dot(X_test, weights))\n",
    "    test_predictions = binary_prediction(y_hat_test)\n",
    "    acc_list_wResampling.append(accuracy_score(y_test, test_predictions))\n",
    "    f1_list_wResampling.append(f1_score(y_test, test_predictions))\n",
    "    print('..done!')\n",
    "\n",
    "results['Accuracy_resampling'] = acc_list_wResampling\n",
    "results['F1-score_resampling'] = f1_list_wResampling\n",
    "results.describe()"
   ]
  },
  {
   "cell_type": "markdown",
   "metadata": {},
   "source": [
    "- результаты существенно поменялись\n",
    "- так, f1_score - вырос с 0,04 до 0.15\n",
    "- вместе с тем значительно упал показатель accuracy_score: с 0,96 до 0,63\n",
    "- в следующем разделе будет произведен поиск оптимальных гиперпараметров алгоритма градиентного спуска (alpha и максимальное кол-во итераций)"
   ]
  },
  {
   "cell_type": "markdown",
   "metadata": {},
   "source": [
    "### Поиск оптимальных гиперпараметров для град.спуска"
   ]
  },
  {
   "cell_type": "code",
   "execution_count": 200,
   "metadata": {},
   "outputs": [
    {
     "name": "stdout",
     "output_type": "stream",
     "text": [
      "for 0.1 average accuracy is 0.7663899297137119, avg f1 is 0.23235108473102123\n",
      "for 0.001 average accuracy is 0.8055575963885419, avg f1 is 0.24386264925390205\n",
      "for 1e-05 average accuracy is 0.8526845117102998, avg f1 is 0.26512139171530624\n",
      "for 1e-09 average accuracy is 0.037037037037037035, avg f1 is 0.06919367496066114\n",
      "for 1e-12 average accuracy is 0.037037037037037035, avg f1 is 0.06919367496066114\n"
     ]
    }
   ],
   "source": [
    "# !ВНИМАНИЕ! - запуск данной ячейки может занять до 30 минут\n",
    "alpha_levels = [1e-1, 1e-3, 1e-5, 1e-9, 1e-12]\n",
    "accuracy_levels = dict()\n",
    "f1_levels = dict()\n",
    "\n",
    "\n",
    "for alpha in alpha_levels:\n",
    "    acc_list, f1_list = [], []\n",
    "    for player in player_labels:\n",
    "        X_train, X_test, y_train, y_test = one_vs_all_split(X_raw, y_raw, player, use_smote='yes')\n",
    "        weights = grad_desc(X_train, y_train, max_iter, alpha)\n",
    "        y_hat_test = sigmoid(np.dot(X_test, weights))\n",
    "        test_predictions = binary_prediction(y_hat_test)\n",
    "        acc_list.append(accuracy_score(y_test, test_predictions))\n",
    "        f1_list.append(f1_score(y_test, test_predictions))\n",
    "    accuracy_levels[alpha] = np.mean(acc_list)\n",
    "    f1_levels[alpha] = np.mean(f1_list)\n",
    "    print(f'for {alpha} average accuracy is {np.mean(acc_list)}, avg f1 is {np.mean(f1_list)}')"
   ]
  },
  {
   "cell_type": "markdown",
   "metadata": {},
   "source": [
    "- из результатов выше видно, что некоторый оптимимум достигается при alpha=0.00001\n",
    "- в следующей ячейки необходимо понять, какое кол-во итераций оптимально с т.з. результата и времени"
   ]
  },
  {
   "cell_type": "code",
   "execution_count": 207,
   "metadata": {},
   "outputs": [
    {
     "name": "stdout",
     "output_type": "stream",
     "text": [
      "for 1000 average accuracy is 0.8231822300590208, avg f1 is 0.2422069046883657\n",
      "for 5000 average accuracy is 0.8528151250214286, avg f1 is 0.2652215418321641\n",
      "for 30000 average accuracy is 0.8689948489375422, avg f1 is 0.2767035967130716\n"
     ]
    }
   ],
   "source": [
    "# !ВНИМАНИЕ! - запуск данной ячейки может занять до 1 часа\n",
    "best_alpha = 1e-5\n",
    "max_iter_list = [1000, 5000, 30000]\n",
    "\n",
    "accuracy_levels = dict()\n",
    "f1_levels = dict()\n",
    "\n",
    "\n",
    "for max_iter in max_iter_list:\n",
    "    acc_list, f1_list = [], []\n",
    "    for player in player_labels:\n",
    "        X_train, X_test, y_train, y_test = one_vs_all_split(X_raw, y_raw, player, use_smote='yes')\n",
    "        weights = grad_desc(X_train, y_train, max_iter, best_alpha)\n",
    "        y_hat_test = sigmoid(np.dot(X_test, weights))\n",
    "        test_predictions = binary_prediction(y_hat_test)\n",
    "        acc_list.append(accuracy_score(y_test, test_predictions))\n",
    "        f1_list.append(f1_score(y_test, test_predictions))\n",
    "    accuracy_levels[alpha] = np.mean(acc_list)\n",
    "    f1_levels[alpha] = np.mean(f1_list)\n",
    "    print(f'for {max_iter} average accuracy is {np.mean(acc_list)}, avg f1 is {np.mean(f1_list)}')"
   ]
  },
  {
   "cell_type": "markdown",
   "metadata": {},
   "source": [
    "- как видно, увеличение кол-ва итераций улучшает качество прогнозов, однако такой рост замедляется и вследствие низкой скорости scratch-версии алгоритма, предлагается остановиться на варианте max_iter = 10 000\n",
    "- следует также помнить, что все метрики были основаны на бинарных моделях\n",
    "- в следующем разделе будет реализована функция подсчета accuracy уже на сводных мульти-классовых прогнозах"
   ]
  },
  {
   "cell_type": "markdown",
   "metadata": {},
   "source": [
    "### Финальная модель. Сравнительный анализ"
   ]
  },
  {
   "cell_type": "code",
   "execution_count": 244,
   "metadata": {},
   "outputs": [
    {
     "name": "stdout",
     "output_type": "stream",
     "text": [
      "GK start calc ...\n",
      "..done!\n",
      "LM start calc ...\n",
      "..done!\n",
      "RCB start calc ...\n",
      "..done!\n",
      "CF start calc ...\n",
      "..done!\n",
      "CAM start calc ...\n",
      "..done!\n",
      "RCM start calc ...\n",
      "..done!\n",
      "CDM start calc ...\n",
      "..done!\n",
      "CB start calc ...\n",
      "..done!\n",
      "RB start calc ...\n",
      "..done!\n",
      "LAM start calc ...\n",
      "..done!\n",
      "RW start calc ...\n",
      "..done!\n",
      "ST start calc ...\n",
      "..done!\n",
      "RAM start calc ...\n",
      "..done!\n",
      "LCB start calc ...\n",
      "..done!\n",
      "LW start calc ...\n",
      "..done!\n",
      "RM start calc ...\n",
      "..done!\n",
      "LCM start calc ...\n",
      "..done!\n",
      "RDM start calc ...\n",
      "..done!\n",
      "LDM start calc ...\n",
      "..done!\n",
      "LWB start calc ...\n",
      "..done!\n",
      "RS start calc ...\n",
      "..done!\n",
      "CM start calc ...\n",
      "..done!\n",
      "LB start calc ...\n",
      "..done!\n",
      "RWB start calc ...\n",
      "..done!\n",
      "RF start calc ...\n",
      "..done!\n",
      "LS start calc ...\n",
      "..done!\n",
      "LF start calc ...\n",
      "..done!\n"
     ]
    }
   ],
   "source": [
    "# OPTIMAL PARAMS for scratch-model\n",
    "alpha = 1e-5\n",
    "max_iter = 10000\n",
    "player_labels = set(y_raw['Position'])\n",
    "\n",
    "# Подготовка данных (до запуска бинарных классификаторов)\n",
    "X_train, X_test, y_train, y_test = train_test_split(X_raw, y_raw, test_size=0.25, random_state=37)\n",
    "X_train_cols = X_train.columns\n",
    "\n",
    "final_forecast_scratch = pd.Series(np.zeros(len(y_test)))\n",
    "smote = SMOTE(sampling_strategy='auto', n_jobs=-1)\n",
    "X_train, y_train = smote.fit_sample(X_train, y_train)\n",
    "y_train = pd.Series(y_train)\n",
    "\n",
    "scaler = MinMaxScaler()\n",
    "X_train_scaler = scaler.fit_transform(X_train)\n",
    "X_train_scaled = pd.DataFrame(data=X_train_scaler, columns=X_train_cols)\n",
    "X_test_scaler = scaler.transform(X_test)\n",
    "X_test_scaled = pd.DataFrame(data=X_test_scaler, columns=X_train_cols)\n",
    "\n",
    "# запуск цикла по бинарным классификаторам - уже без использования функции one_vs_all\n",
    "for player in player_labels:\n",
    "    print(f'{player} start calc ...')\n",
    "    # подготовка бинарных таргетов\n",
    "    y_modified_train = pd.Series([1 if y_train[i]==player else 0 for i in y_train.index])\n",
    "    # град.спуск - обучение\n",
    "    weights = grad_desc(X_train_scaled, y_modified_train, max_iter, alpha)\n",
    "    y_hat_test = sigmoid(np.dot(X_test_scaled, weights))\n",
    "    # прогноз - на тестовой выборке\n",
    "    test_predictions = binary_prediction(y_hat_test)\n",
    "    for i in range(len(test_predictions)):\n",
    "        if test_predictions[i] == 1:\n",
    "            final_forecast_scratch[i] = player\n",
    "    print('..done!')"
   ]
  },
  {
   "cell_type": "code",
   "execution_count": 257,
   "metadata": {},
   "outputs": [
    {
     "name": "stdout",
     "output_type": "stream",
     "text": [
      "в итоге верно предсказанных позиций: 20.0%\n"
     ]
    }
   ],
   "source": [
    "final_forecast_scratch = pd.Series(final_forecast_scratch)\n",
    "\n",
    "total = len(y_test)\n",
    "counter = 0\n",
    "for fact, predict in zip(y_test.Position, final_forecast_scratch):\n",
    "    if fact == predict: counter+=1\n",
    "\n",
    "\n",
    "print(f'в итоге верно предсказанных позиций: {100*round(counter/total, 1)}%')"
   ]
  },
  {
   "cell_type": "code",
   "execution_count": 258,
   "metadata": {},
   "outputs": [
    {
     "name": "stdout",
     "output_type": "stream",
     "text": [
      "GK start calc ...\n",
      "..done!\n",
      "LM start calc ...\n",
      "..done!\n",
      "RCB start calc ...\n",
      "..done!\n",
      "CF start calc ...\n",
      "..done!\n",
      "CAM start calc ...\n",
      "..done!\n",
      "RCM start calc ...\n",
      "..done!\n",
      "CDM start calc ...\n",
      "..done!\n",
      "CB start calc ...\n",
      "..done!\n",
      "RB start calc ...\n",
      "..done!\n",
      "LAM start calc ...\n",
      "..done!\n",
      "RW start calc ...\n",
      "..done!\n",
      "ST start calc ...\n",
      "..done!\n",
      "RAM start calc ...\n",
      "..done!\n",
      "LCB start calc ...\n",
      "..done!\n",
      "LW start calc ...\n",
      "..done!\n",
      "RM start calc ...\n",
      "..done!\n",
      "LCM start calc ...\n",
      "..done!\n",
      "RDM start calc ...\n",
      "..done!\n",
      "LDM start calc ...\n",
      "..done!\n",
      "LWB start calc ...\n",
      "..done!\n",
      "RS start calc ...\n",
      "..done!\n",
      "CM start calc ...\n",
      "..done!\n",
      "LB start calc ...\n",
      "..done!\n",
      "RWB start calc ...\n",
      "..done!\n",
      "RF start calc ...\n",
      "..done!\n",
      "LS start calc ...\n",
      "..done!\n",
      "LF start calc ...\n",
      "..done!\n",
      "в итоге верно предсказанных позиций: 20.0%\n"
     ]
    }
   ],
   "source": [
    "# запуск цикла по бинарным классификаторам - c использованием библиотеки SKLEARN\n",
    "final_forecast_sklearn = pd.Series(np.zeros(len(y_test)))\n",
    "for player in player_labels:\n",
    "    print(f'{player} start calc ...')\n",
    "    # подготовка бинарных таргетов\n",
    "    y_modified_train = pd.Series([1 if y_train[i]==player else 0 for i in y_train.index])\n",
    "    # модель SKLEARN\n",
    "    logreg = LogisticRegression(fit_intercept=False)\n",
    "    logreg.fit(X_train_scaled, y_modified_train)\n",
    "    # прогноз - на тестовой выборке\n",
    "    test_predictions = logreg.predict(X_test_scaled)\n",
    "    for i in range(len(test_predictions)):\n",
    "        if test_predictions[i] == 1:\n",
    "            final_forecast_sklearn[i] = player\n",
    "    print('..done!')\n",
    "\n",
    "final_forecast_sklearn = pd.Series(final_forecast_sklearn)\n",
    "\n",
    "total = len(y_test)\n",
    "counter = 0\n",
    "for fact, predict in zip(y_test.Position, final_forecast_sklearn):\n",
    "    if fact == predict: counter+=1\n",
    "\n",
    "print(f'в итоге верно предсказанных позиций: {100*round(counter/total, 1)}%')"
   ]
  },
  {
   "cell_type": "markdown",
   "metadata": {},
   "source": [
    "## Выводы"
   ]
  },
  {
   "cell_type": "markdown",
   "metadata": {},
   "source": [
    "- scratch-версия модели Логистической регрессии показала свою сходимость с аналогом модели, встроенной в библиотеку SKLEARN\n",
    "- были найдены оптимальные (с учетом разумного времени запуска кода) параметры градиентного спуска\n",
    "- вместе с тем, общая точность прогноза (20%) далека от понятия качественной модели\n",
    "- с одной стороны, это может быть связано с исходными данными, в частности в данной работе не анализировалось то, насколько действительно некоторые позиции футболистов могут быть качественно отделены по признакам\n",
    "- другими словами, необходим детальный анализ типа SIZE EFFECT с тестированием соответствующих гипотез\n",
    "- также, возможно, в данной ситуации, альтернативные алгоритмы, такие как Байесовский классификатор, SVM или DecisionTree могут быть использованы более эффективно (что выходит за рамки настоящей работы)\n",
    "\n",
    "\n",
    "В целом, могу сделать следующий вывод: бинарный классификатор Логистическая регрессия с использованием стратегии \"Один-против-Всех\" в случае несбалансированных классов недостаточно хорошо подходит для построения прогнозов"
   ]
  }
 ],
 "metadata": {
  "kernelspec": {
   "display_name": "Python 3",
   "language": "python",
   "name": "python3"
  },
  "language_info": {
   "codemirror_mode": {
    "name": "ipython",
    "version": 3
   },
   "file_extension": ".py",
   "mimetype": "text/x-python",
   "name": "python",
   "nbconvert_exporter": "python",
   "pygments_lexer": "ipython3",
   "version": "3.6.6"
  },
  "toc": {
   "base_numbering": 1,
   "nav_menu": {},
   "number_sections": true,
   "sideBar": true,
   "skip_h1_title": true,
   "title_cell": "Table of Contents",
   "title_sidebar": "Contents",
   "toc_cell": true,
   "toc_position": {},
   "toc_section_display": true,
   "toc_window_display": false
  },
  "varInspector": {
   "cols": {
    "lenName": 16,
    "lenType": 16,
    "lenVar": 40
   },
   "kernels_config": {
    "python": {
     "delete_cmd_postfix": "",
     "delete_cmd_prefix": "del ",
     "library": "var_list.py",
     "varRefreshCmd": "print(var_dic_list())"
    },
    "r": {
     "delete_cmd_postfix": ") ",
     "delete_cmd_prefix": "rm(",
     "library": "var_list.r",
     "varRefreshCmd": "cat(var_dic_list()) "
    }
   },
   "types_to_exclude": [
    "module",
    "function",
    "builtin_function_or_method",
    "instance",
    "_Feature"
   ],
   "window_display": false
  }
 },
 "nbformat": 4,
 "nbformat_minor": 2
}
