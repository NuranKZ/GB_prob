{
 "cells": [
  {
   "cell_type": "markdown",
   "metadata": {
    "toc": true
   },
   "source": [
    "<h1>Table of Contents<span class=\"tocSkip\"></span></h1>\n",
    "<div class=\"toc\"><ul class=\"toc-item\"></ul></div>"
   ]
  },
  {
   "cell_type": "code",
   "execution_count": 1,
   "metadata": {},
   "outputs": [],
   "source": [
    "import numpy as np\n",
    "import scipy.stats as stats\n",
    "import pandas as pd\n",
    "import seaborn as sns"
   ]
  },
  {
   "cell_type": "markdown",
   "metadata": {},
   "source": [
    "**Задача 1**\n",
    "\n",
    "- Даны значения величины заработной платы заемщиков банка (salary) и значения их поведенческого кредитного скоринга (scoring):\n",
    "\n",
    "   - salary = [35, 45, 190, 200, 40, 70, 54, 150, 120, 110]\n",
    "   - scoring = [401, 574, 874, 919, 459, 739, 653, 902, 746, 832]\n",
    "\n",
    "\n",
    "- Без использования сторонних библиотек (вроде numpy, pandas и др.) найдите:\n",
    "   - 1. ковариацию (смещённую и несмещённую) этих двух величин,\n",
    "   - 2. коэффициент корреляции Пирсона.\n",
    "\n",
    "\n",
    "- Можно затем посчитать те же значения с использованием библиотек, чтобы проверить себя."
   ]
  },
  {
   "cell_type": "code",
   "execution_count": 28,
   "metadata": {},
   "outputs": [],
   "source": [
    "salary = [35, 45, 190, 200, 40, 70, 54, 150, 120, 110]\n",
    "scoring = [401, 574, 874, 919, 459, 739, 653, 902, 746, 832]\n",
    "\n",
    "def cov(a,b):\n",
    "    if len(a) == len(b) or len(a)!=0:\n",
    "        a_mean = sum(a)/len(a)\n",
    "        b_mean = sum(b)/len(b)\n",
    "        cov_vector = [(a[i]-a_mean)*(b[i]-b_mean) for i in range(len(a))]\n",
    "        cov_ = sum(cov_vector)/(len(a)-1)\n",
    "        return cov_\n",
    "    else:\n",
    "        print('wrong input')\n",
    "\n",
    "def corr(a,b):\n",
    "    if len(a) == len(b) or len(a)!=0:\n",
    "        corr_ = cov(a,b) / np.sqrt(cov(a,a)*cov(b,b))\n",
    "        return corr_\n",
    "    else:\n",
    "        print('wrong input')"
   ]
  },
  {
   "cell_type": "code",
   "execution_count": 29,
   "metadata": {},
   "outputs": [
    {
     "data": {
      "text/plain": [
       "10175.377777777778"
      ]
     },
     "metadata": {},
     "output_type": "display_data"
    },
    {
     "data": {
      "text/plain": [
       "0.8874900920739162"
      ]
     },
     "metadata": {},
     "output_type": "display_data"
    }
   ],
   "source": [
    "# результат\n",
    "display(cov(salary, scoring))\n",
    "display(corr(salary, scoring))"
   ]
  },
  {
   "cell_type": "code",
   "execution_count": 30,
   "metadata": {},
   "outputs": [
    {
     "data": {
      "text/plain": [
       "10175.377777777776"
      ]
     },
     "metadata": {},
     "output_type": "display_data"
    },
    {
     "data": {
      "text/plain": [
       "0.8874900920739162"
      ]
     },
     "metadata": {},
     "output_type": "display_data"
    }
   ],
   "source": [
    "# проверка\n",
    "salary = np.array(salary)\n",
    "scoring = np.array(scoring)\n",
    "display(np.cov(salary,scoring)[0,1])\n",
    "display(np.corrcoef(salary, scoring)[0,1])"
   ]
  },
  {
   "cell_type": "markdown",
   "metadata": {},
   "source": [
    "**Задача 2**\n",
    "\n",
    "- Измерены значения IQ выборки студентов, обучающихся в местных технических вузах:\n",
    "\n",
    "  - [131, 125, 115, 122, 131, 115, 107, 99, 125, 111]\n",
    "\n",
    "- Известно, что в генеральной совокупности IQ распределен нормально. \n",
    "- Найдите доверительный интервал для математического ожидания с надежностью 0.95."
   ]
  },
  {
   "cell_type": "code",
   "execution_count": 55,
   "metadata": {},
   "outputs": [
    {
     "name": "stdout",
     "output_type": "stream",
     "text": [
      "доверительный интервал: (110.556; 125.644)\n"
     ]
    }
   ],
   "source": [
    "iq = np.array([131, 125, 115, 122, 131, 115, 107, 99, 125, 111])\n",
    "alpha = 0.05\n",
    "x_mean = iq.mean()\n",
    "\n",
    "# вариант решения с двухсторонних доверительным интервалом\n",
    "sigma_iq = iq.std(ddof=1)\n",
    "t_q = stats.t.ppf(1-alpha/2, df=len(iq)-1)\n",
    "left_q = x_mean - t_q*(sigma_iq/(np.sqrt(len(iq))))\n",
    "right_q = x_mean + t_q*(sigma_iq/(np.sqrt(len(iq))))\n",
    "\n",
    "print(f'доверительный интервал: ({round(left_q,3)}; {round(right_q,3)})')"
   ]
  },
  {
   "cell_type": "markdown",
   "metadata": {},
   "source": [
    "**Задача 3**\n",
    "\n",
    "- Известно, что рост футболистов в сборной распределён нормально с известной дисперсией 25. \n",
    "- На выборке объёма 27 выборочное среднее составило 174.2. \n",
    "- Найдите доверительный интервал для математического ожидания с надёжностью 0.95."
   ]
  },
  {
   "cell_type": "code",
   "execution_count": 49,
   "metadata": {},
   "outputs": [],
   "source": [
    "alpha = 0.05\n",
    "N_sample = 27\n",
    "true_std = 5\n",
    "mean_sample = 174.2"
   ]
  },
  {
   "cell_type": "code",
   "execution_count": 50,
   "metadata": {},
   "outputs": [
    {
     "name": "stdout",
     "output_type": "stream",
     "text": [
      "доверительный интервал: (172.314; 176.086)\n"
     ]
    }
   ],
   "source": [
    "# вариант решения с двухсторонних доверительным интервалом\n",
    "normed_q = stats.norm.ppf(1-alpha/2)\n",
    "left_q = mean_sample - normed_q*(true_std/(np.sqrt(N_sample)))\n",
    "right_q = mean_sample + normed_q*(true_std/(np.sqrt(N_sample)))\n",
    "\n",
    "print(f'доверительный интервал: ({round(left_q,3)}; {round(right_q,3)})')"
   ]
  },
  {
   "cell_type": "markdown",
   "metadata": {},
   "source": [
    "**Задача 4**\n",
    "\n",
    "Выберите тему для проектной работы по курсу Теории вероятностей и математической статистики и напишите ее в комментарии к Практическому заданию."
   ]
  },
  {
   "cell_type": "markdown",
   "metadata": {},
   "source": [
    "- вариант 1. AB-тестирование \n",
    "  - Дается база данных (со множеством различных величин, например база данных товаров и покупателей)\n",
    "  - Такая база может быть в формате SQL или набор таблиц PANDAS\n",
    "  - Задача проекта: самостоятельно найти и протестировать различные гипотезы, используя AB-тестирование\n",
    "  - при этом сами гипотезы заранее не сформулированы, студент должен сам их сформулировать и проверить\n",
    "  - в качестве оценки результативности, можно брать число найденных и подтвержденных гипотез\n",
    "\n",
    "\n",
    "- вариант 2. Лог-регрессия\n",
    "  - Дается датафрейм\n",
    "  - используя модель лог-регрессии, создать классификационную модель.\n",
    "  - Учитывая, что в предыдущих курсах мы полноценно еще не проходили теорию по классификационным моделям машинного обучения, вариант 1 мне кажется более предпочтительным\n",
    "  \n",
    "  \n",
    "- вариант 3. RFE vs PCA\n",
    "   - Сравнение ручного удаления мультиколлериарных переменных (типа Recursive Feature Selection) и альтернативного варианта понижения размерности черех метод главных компонент в регрессионной модели и сравнить результаты (c применением train-test-split)\n",
    "\n",
    "\n",
    "- Общее: \n",
    "   - _в целом, конечно создавать и строить полноценную модель - это интересно, но с точки зрения курса расчет, допустим, линейной регрессии уже через готовые Statsmodels или sklearn - это не так актуально для конкретно понимания статистических тем настоящего курса, поэтому AB-тестирование считаю более релевантным_"
   ]
  },
  {
   "cell_type": "code",
   "execution_count": null,
   "metadata": {},
   "outputs": [],
   "source": []
  }
 ],
 "metadata": {
  "kernelspec": {
   "display_name": "Python 3",
   "language": "python",
   "name": "python3"
  },
  "language_info": {
   "codemirror_mode": {
    "name": "ipython",
    "version": 3
   },
   "file_extension": ".py",
   "mimetype": "text/x-python",
   "name": "python",
   "nbconvert_exporter": "python",
   "pygments_lexer": "ipython3",
   "version": "3.7.1"
  },
  "toc": {
   "base_numbering": 1,
   "nav_menu": {},
   "number_sections": true,
   "sideBar": true,
   "skip_h1_title": true,
   "title_cell": "Table of Contents",
   "title_sidebar": "Contents",
   "toc_cell": true,
   "toc_position": {},
   "toc_section_display": true,
   "toc_window_display": false
  },
  "varInspector": {
   "cols": {
    "lenName": 16,
    "lenType": 16,
    "lenVar": 40
   },
   "kernels_config": {
    "python": {
     "delete_cmd_postfix": "",
     "delete_cmd_prefix": "del ",
     "library": "var_list.py",
     "varRefreshCmd": "print(var_dic_list())"
    },
    "r": {
     "delete_cmd_postfix": ") ",
     "delete_cmd_prefix": "rm(",
     "library": "var_list.r",
     "varRefreshCmd": "cat(var_dic_list()) "
    }
   },
   "types_to_exclude": [
    "module",
    "function",
    "builtin_function_or_method",
    "instance",
    "_Feature"
   ],
   "window_display": false
  }
 },
 "nbformat": 4,
 "nbformat_minor": 2
}
