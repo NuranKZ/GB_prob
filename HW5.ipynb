{
 "cells": [
  {
   "cell_type": "markdown",
   "metadata": {
    "toc": true
   },
   "source": [
    "<h1>Table of Contents<span class=\"tocSkip\"></span></h1>\n",
    "<div class=\"toc\"><ul class=\"toc-item\"></ul></div>"
   ]
  },
  {
   "cell_type": "code",
   "execution_count": 1,
   "metadata": {},
   "outputs": [],
   "source": [
    "import numpy as np\n",
    "import pandas as pd\n",
    "import seaborn as sns\n",
    "import scipy.stats as stats"
   ]
  },
  {
   "cell_type": "markdown",
   "metadata": {},
   "source": [
    "**Задача 1**\n",
    "\n",
    "Утверждается, что шарики для подшипников, изготовленные автоматическим станком, имеют средний диаметр 17 мм. Используя уровень значимости 0.025 и правостороннюю критическую область, проверить данную гипотезу при условии, что в выборке из 100 шариков средний диаметр оказался равным 17.5 мм, а дисперсия известна и равна 4 мм."
   ]
  },
  {
   "cell_type": "code",
   "execution_count": 16,
   "metadata": {},
   "outputs": [
    {
     "name": "stdout",
     "output_type": "stream",
     "text": [
      "H0 is true, Z not in critical zone\n",
      "Z = 1.25 < 1.96\n"
     ]
    }
   ],
   "source": [
    "mu = 17\n",
    "alpha = 0.025\n",
    "N = 100\n",
    "true_std = 4\n",
    "E_x = 17.5\n",
    "\n",
    "Z = (E_x - mu) / (true_std / np.sqrt(N))\n",
    "#norm = stats.norm(0,1)\n",
    "#norm.pdf(Z)\n",
    "q_right = stats.norm.ppf(1 - alpha)\n",
    "if Z < q_right:\n",
    "    print('H0 is true, Z not in critical zone')\n",
    "    print(f'Z = {Z} < {round(q_right,3)}')\n",
    "else:\n",
    "    print('H0 is false, Z in critical zone')\n",
    "    print(f'Z = {Z} > {q_right}')"
   ]
  },
  {
   "cell_type": "markdown",
   "metadata": {},
   "source": [
    "**Задача 2**\n",
    "\n",
    "Известно, что генеральная совокупность распределена нормально с известным средним квадратическим отклонением 16. Найти доверительный интервал для оценки математического ожидания a с надёжностью 0.95, если выборочное среднее равно 80, а объём равен 256."
   ]
  },
  {
   "cell_type": "code",
   "execution_count": 22,
   "metadata": {},
   "outputs": [
    {
     "name": "stdout",
     "output_type": "stream",
     "text": [
      "доверительный интервал: (78.04; 81.96)\n"
     ]
    }
   ],
   "source": [
    "true_std = 16\n",
    "alpha = 0.05\n",
    "E_x = 80\n",
    "N = 256\n",
    "# ниже вариант решения с двухсторонних доверительным интервалом\n",
    "normed_q = stats.norm.ppf(1-alpha/2)\n",
    "left_q = E_x - normed_q*(true_std/(np.sqrt(N)))\n",
    "right_q = E_x + normed_q*(true_std/(np.sqrt(N)))\n",
    "\n",
    "print(f'доверительный интервал: ({round(left_q,3)}; {round(right_q,3)})')"
   ]
  },
  {
   "cell_type": "markdown",
   "metadata": {},
   "source": [
    "**Задача 3**\n",
    "\n",
    "- Продавец утверждает, что средний вес пачки печенья составляет 200 г. Из партии извлечена выборка из 10 пачек. Вес каждой пачки составляет:\n",
    "\n",
    "  - 202, 203, 199, 197, 195, 201, 200, 204, 194, 190\n",
    "\n",
    "- Известно, что их веса распределены нормально. \n",
    "- Верно ли утверждение продавца, если учитывать, что уровень значимости равен 1%?"
   ]
  },
  {
   "cell_type": "code",
   "execution_count": 41,
   "metadata": {},
   "outputs": [
    {
     "name": "stdout",
     "output_type": "stream",
     "text": [
      "доверительный интервал: (197.595; 199.405)\n",
      "утверждение продавца неверно, 200 г не в доверительном интервале\n"
     ]
    }
   ],
   "source": [
    "mu = 200\n",
    "sample = np.array([202, 203, 199, 197, 195, 201, 200, 204, 194, 190])\n",
    "alpha = 0.01\n",
    "df = len(sample) - 1\n",
    "\n",
    "sigma_sample = sample.std(ddof=1)\n",
    "\n",
    "t_q = stats.t.ppf(1-alpha/2, df=df)\n",
    "left_q = sample.mean() - t_q*(sigma_sample/(np.sqrt(N)))\n",
    "right_q = sample.mean() + t_q*(sigma_sample/(np.sqrt(N)))\n",
    "\n",
    "print(f'доверительный интервал: ({round(left_q,3)}; {round(right_q,3)})')\n",
    "print('утверждение продавца неверно, 200 г не в доверительном интервале')"
   ]
  }
 ],
 "metadata": {
  "kernelspec": {
   "display_name": "Python 3",
   "language": "python",
   "name": "python3"
  },
  "language_info": {
   "codemirror_mode": {
    "name": "ipython",
    "version": 3
   },
   "file_extension": ".py",
   "mimetype": "text/x-python",
   "name": "python",
   "nbconvert_exporter": "python",
   "pygments_lexer": "ipython3",
   "version": "3.6.6"
  },
  "toc": {
   "base_numbering": 1,
   "nav_menu": {},
   "number_sections": true,
   "sideBar": true,
   "skip_h1_title": true,
   "title_cell": "Table of Contents",
   "title_sidebar": "Contents",
   "toc_cell": true,
   "toc_position": {},
   "toc_section_display": true,
   "toc_window_display": true
  },
  "varInspector": {
   "cols": {
    "lenName": 16,
    "lenType": 16,
    "lenVar": 40
   },
   "kernels_config": {
    "python": {
     "delete_cmd_postfix": "",
     "delete_cmd_prefix": "del ",
     "library": "var_list.py",
     "varRefreshCmd": "print(var_dic_list())"
    },
    "r": {
     "delete_cmd_postfix": ") ",
     "delete_cmd_prefix": "rm(",
     "library": "var_list.r",
     "varRefreshCmd": "cat(var_dic_list()) "
    }
   },
   "types_to_exclude": [
    "module",
    "function",
    "builtin_function_or_method",
    "instance",
    "_Feature"
   ],
   "window_display": false
  }
 },
 "nbformat": 4,
 "nbformat_minor": 2
}
